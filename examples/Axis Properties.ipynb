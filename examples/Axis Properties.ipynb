{
 "cells": [
  {
   "cell_type": "code",
   "execution_count": null,
   "metadata": {
    "collapsed": false
   },
   "outputs": [],
   "source": [
    "import numpy as np\n",
    "from IPython.display import display\n",
    "from bqplot import *"
   ]
  },
  {
   "cell_type": "code",
   "execution_count": null,
   "metadata": {
    "collapsed": true
   },
   "outputs": [],
   "source": [
    "np.random.seed(0)\n",
    "size = 100\n",
    "x_data = range(size)\n",
    "y_data = np.cumsum(np.random.randn(size) * 100.0)\n",
    "y_data_2 = np.cumsum(np.random.randn(size))"
   ]
  },
  {
   "cell_type": "markdown",
   "metadata": {},
   "source": [
    "## Miscellaneous Properties"
   ]
  },
  {
   "cell_type": "code",
   "execution_count": null,
   "metadata": {
    "collapsed": false
   },
   "outputs": [],
   "source": [
    "y_sc = LinearScale()\n",
    "\n",
    "ax_x = Axis(label='Test X', scale=y_sc, grid_lines='solid')\n",
    "ax_y = Axis(label='Test Y', scale=y_sc, orientation='vertical', tick_format='0.2f', grid_lines='solid')\n",
    "\n",
    "line = Lines(x=y_data_2, y=y_data_2,\n",
    "             scales={'x': y_sc, 'y': y_sc}, colors=['hotpink', 'yellow'])\n",
    "\n",
    "m_fig = dict(left=100, top=50, bottom=50, right=100)\n",
    "fig = Figure(axes=[ax_x, ax_y], marks=[line], fig_margin=m_fig)\n",
    "display(fig)"
   ]
  },
  {
   "cell_type": "code",
   "execution_count": null,
   "metadata": {
    "collapsed": true
   },
   "outputs": [],
   "source": [
    "# Displaying Grid Lines for the axis\n",
    "ax_x.grid_lines = 'solid'\n",
    "ax_y.grid_lines = 'dashed'"
   ]
  },
  {
   "cell_type": "code",
   "execution_count": null,
   "metadata": {
    "collapsed": true
   },
   "outputs": [],
   "source": [
    "# Changing the side of the axis\n",
    "ax_y.side = \"right\"\n",
    "ax_x.side = \"top\""
   ]
  },
  {
   "cell_type": "code",
   "execution_count": null,
   "metadata": {
    "collapsed": true
   },
   "outputs": [],
   "source": [
    "ax_y.orientation = \"horizontal\"\n",
    "ax_x.orientation = \"vertical\""
   ]
  },
  {
   "cell_type": "code",
   "execution_count": null,
   "metadata": {
    "collapsed": true
   },
   "outputs": [],
   "source": [
    "## Changing the format of the ticks on the axis\n",
    "fig.axes[0].tick_format = \"0.2f\"\n",
    "fig.axes[1].tick_format = \"0.0f\""
   ]
  },
  {
   "cell_type": "code",
   "execution_count": null,
   "metadata": {
    "collapsed": true
   },
   "outputs": [],
   "source": [
    "## Changing the color of the axis\n",
    "with ax_x.hold_sync():\n",
    "    ax_x.color = 'orangered'\n",
    "    ax_x.label_color = 'orangered'"
   ]
  },
  {
   "cell_type": "markdown",
   "metadata": {},
   "source": [
    "## Label Placement"
   ]
  },
  {
   "cell_type": "code",
   "execution_count": null,
   "metadata": {
    "collapsed": true
   },
   "outputs": [],
   "source": [
    "x_sc = LinearScale()\n",
    "y_sc = LinearScale()\n",
    "\n",
    "ax_x = Axis(label='Test X', scale=x_sc)\n",
    "ax_y = Axis(label='Test Y', scale=y_sc, orientation='vertical', tick_format='0.3f')\n",
    "\n",
    "line = Lines(x=x_data, y=y_data_2, scales={'x': x_sc, 'y': y_sc}, colors=['hotpink', 'yellow'])\n",
    "\n",
    "m_fig = dict(left=100, top=50, bottom=50, right=100)\n",
    "fig = Figure(axes=[ax_x, ax_y], marks=[line], fig_margin=m_fig)\n",
    "display(fig)"
   ]
  },
  {
   "cell_type": "code",
   "execution_count": null,
   "metadata": {
    "collapsed": true
   },
   "outputs": [],
   "source": [
    "## moving the label along the axis\n",
    "ax_x.label_location = 'end'\n",
    "ax_y.label_location = 'start'"
   ]
  },
  {
   "cell_type": "code",
   "execution_count": null,
   "metadata": {
    "collapsed": true
   },
   "outputs": [],
   "source": [
    "## moving the label perpendicular to the axis\n",
    "ax_y.label_offset = '6ex'\n",
    "ax_x.label_offset = '-1em'"
   ]
  },
  {
   "cell_type": "markdown",
   "metadata": {},
   "source": [
    "## Ticks properties"
   ]
  },
  {
   "cell_type": "code",
   "execution_count": null,
   "metadata": {
    "collapsed": true
   },
   "outputs": [],
   "source": [
    "x_sc = LinearScale()\n",
    "y_sc = LinearScale()\n",
    "\n",
    "ax_x = Axis(label='index', scale=x_sc)\n",
    "ax_y = Axis(label='Brownian', scale=y_sc, orientation='vertical', tick_format='0.2f')\n",
    "\n",
    "line = Lines(x=x_data[:20], y=y_data[:20], scales={'x': x_sc, 'y': y_sc}, colors=['hotpink', 'yellow'])\n",
    "\n",
    "m_fig = dict(left=50, top=50, bottom=50, right=50)\n",
    "fig = Figure(axes=[ax_x, ax_y], marks=[line], fig_margin=m_fig)\n",
    "display(fig)"
   ]
  },
  {
   "cell_type": "code",
   "execution_count": null,
   "metadata": {
    "collapsed": true
   },
   "outputs": [],
   "source": [
    "# Setting the number of ticks\n",
    "ax_x.num_ticks = 8"
   ]
  },
  {
   "cell_type": "code",
   "execution_count": null,
   "metadata": {
    "collapsed": true
   },
   "outputs": [],
   "source": [
    "# Setting the tick values\n",
    "ax_x.tick_values = np.arange(1, 21)"
   ]
  },
  {
   "cell_type": "markdown",
   "metadata": {},
   "source": [
    "# Axis Placement"
   ]
  },
  {
   "cell_type": "code",
   "execution_count": null,
   "metadata": {
    "collapsed": false
   },
   "outputs": [],
   "source": [
    "sc_x = LinearScale()\n",
    "sc_y = LinearScale(reverse=True)\n",
    "sc_y2 = LinearScale()\n",
    "\n",
    "sc1 = Scatter(x=x_data[:10], y=y_data[:10],\n",
    "              scales={'x': sc_x, 'y': sc_y},\n",
    "              labels=['Test 1'],\n",
    "              default_size=100, display_legend=True)\n",
    "\n",
    "sc2 = Scatter(x=x_data[:10], y=y_data_2[:10],\n",
    "              default_color='dodgerblue',\n",
    "              marker='cross', labels=['Test 2'],\n",
    "              scales={'x': sc_x, 'y': sc_y2}, display_legend=True)"
   ]
  },
  {
   "cell_type": "markdown",
   "metadata": {},
   "source": [
    "## Placement of axis in terms of figure scales"
   ]
  },
  {
   "cell_type": "code",
   "execution_count": null,
   "metadata": {
    "collapsed": false
   },
   "outputs": [],
   "source": [
    "## Setting offset for axis in terms of figure scales\n",
    "ax_x = Axis(label='Test X', scale=sc_x, \n",
    "            grid_lines='solid', offset=dict(value=0.2), label_location=\"start\")\n",
    "\n",
    "ax_y = Axis(label='Test Y', scale=sc_y, \n",
    "            orientation='vertical', tick_format='0.2f', grid_lines='solid', label_location=\"end\")\n",
    "\n",
    "ax_y2 = Axis(label='Test Y2', scale=sc_y2, orientation='vertical', side='right', \n",
    "             tick_format='0.2f')\n",
    "fig = Figure(axes=[ax_x, ax_y, ax_y2], marks=[sc1, sc2], legend_location='top-right',\n",
    "             padding_x=0.025)\n",
    "display(fig)"
   ]
  },
  {
   "cell_type": "code",
   "execution_count": null,
   "metadata": {
    "collapsed": true
   },
   "outputs": [],
   "source": [
    "# restoring to default position\n",
    "ax_x.offset = {}"
   ]
  },
  {
   "cell_type": "markdown",
   "metadata": {},
   "source": [
    "## Placement of axis in terms of actual scales and data"
   ]
  },
  {
   "cell_type": "code",
   "execution_count": null,
   "metadata": {
    "collapsed": false
   },
   "outputs": [],
   "source": [
    "ax_y.offset = dict(value=3.0, scale=sc_x)"
   ]
  },
  {
   "cell_type": "markdown",
   "metadata": {},
   "source": [
    "# Color Axis"
   ]
  },
  {
   "cell_type": "code",
   "execution_count": null,
   "metadata": {
    "collapsed": false
   },
   "outputs": [],
   "source": [
    "x_sc = LinearScale()\n",
    "y_sc = LinearScale()\n",
    "col_sc = ColorScale()\n",
    "\n",
    "scatter = Scatter(x=x_data, y=y_data, color=y_data_2,\n",
    "                  scales={'x': x_sc, 'y':y_sc, 'color': col_sc})\n",
    "ax_x = Axis(scale=x_sc)\n",
    "ax_y = Axis(scale=y_sc, orientation='vertical', tick_format='0.2f')\n",
    "ax_c = ColorAxis(scale=col_sc, label='Color')\n",
    "\n",
    "margin=dict(top=80, left=80, right=80, bottom=80)\n",
    "display(Figure(marks=[scatter], axes=[ax_x, ax_y, ax_c], fig_margin=margin))"
   ]
  },
  {
   "cell_type": "markdown",
   "metadata": {},
   "source": [
    "## Changing side and orientation of color axis"
   ]
  },
  {
   "cell_type": "code",
   "execution_count": null,
   "metadata": {
    "collapsed": true
   },
   "outputs": [],
   "source": [
    "ax_c.side = 'top'"
   ]
  },
  {
   "cell_type": "code",
   "execution_count": null,
   "metadata": {
    "collapsed": true
   },
   "outputs": [],
   "source": [
    "with ax_c.hold_sync():\n",
    "    ax_c.orientation = 'vertical'\n",
    "    ax_c.side = 'right'"
   ]
  },
  {
   "cell_type": "code",
   "execution_count": null,
   "metadata": {
    "collapsed": true
   },
   "outputs": [],
   "source": [
    "ax_y.side = 'right'\n",
    "ax_c.side = 'left'"
   ]
  }
 ],
 "metadata": {
  "kernelspec": {
   "display_name": "Python 2",
   "language": "python",
   "name": "python2"
  },
  "language_info": {
   "codemirror_mode": {
    "name": "ipython",
    "version": 2
   },
   "file_extension": ".py",
   "mimetype": "text/x-python",
   "name": "python",
   "nbconvert_exporter": "python",
   "pygments_lexer": "ipython2",
   "version": "2.7.10"
  }
 },
 "nbformat": 4,
 "nbformat_minor": 0
}
