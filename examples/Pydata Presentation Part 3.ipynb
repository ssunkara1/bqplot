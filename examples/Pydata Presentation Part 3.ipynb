{
 "cells": [
  {
   "cell_type": "code",
   "execution_count": 1,
   "metadata": {
    "collapsed": true,
    "deletable": true,
    "editable": true,
    "scrolled": true
   },
   "outputs": [],
   "source": [
    "import numpy as np\n",
    "from sklearn.cluster import KMeans"
   ]
  },
  {
   "cell_type": "code",
   "execution_count": 2,
   "metadata": {
    "collapsed": false,
    "deletable": true,
    "editable": true,
    "scrolled": true
   },
   "outputs": [],
   "source": [
    "np.random.seed(6)\n",
    "data = np.random.randn(100, 8)"
   ]
  },
  {
   "cell_type": "code",
   "execution_count": 3,
   "metadata": {
    "collapsed": false,
    "deletable": true,
    "editable": true,
    "scrolled": true
   },
   "outputs": [],
   "source": [
    "data[:, 0:2] = data[:, 0:2] + [-2.0, 2.0]\n",
    "data[:, 2:4] = data[:, 2:4] + [2.0, 2.0] \n",
    "data[:, 4:6] = data[:, 4:6] + [-2.0, -2.0]\n",
    "\n",
    "data[:, 6:8] = data[:, 6:8] + [2.0, -2.0]"
   ]
  },
  {
   "cell_type": "code",
   "execution_count": 4,
   "metadata": {
    "collapsed": false,
    "deletable": true,
    "editable": true,
    "scrolled": true
   },
   "outputs": [],
   "source": [
    "data_reshaped = data.reshape(400, 2)\n",
    "labels = np.array([])\n",
    "_default_colors = ['dodgerblue', 'mediumseagreen', 'red', 'yellow']"
   ]
  },
  {
   "cell_type": "code",
   "execution_count": 5,
   "metadata": {
    "collapsed": false,
    "deletable": true,
    "editable": true,
    "scrolled": true
   },
   "outputs": [],
   "source": [
    "def cluster(*args):\n",
    "    global labels\n",
    "    kmeans_clust = KMeans(n_clusters=4, n_init=5, max_iter=300)\n",
    "    res = kmeans_clust.fit(data_reshaped)\n",
    "\n",
    "    centers = kmeans_clust.cluster_centers_\n",
    "    labels = kmeans_clust.labels_\n",
    "    \n",
    "    with scat.hold_sync():\n",
    "        scat.default_size = 1024\n",
    "        scat.x = centers[:, 0]\n",
    "        scat.y = centers[:, 1]\n",
    "        scat.default_colors = _default_colors"
   ]
  },
  {
   "cell_type": "code",
   "execution_count": 7,
   "metadata": {
    "collapsed": false,
    "deletable": true,
    "editable": true,
    "scrolled": true
   },
   "outputs": [],
   "source": [
    "from bqplot import pyplot as plt\n",
    "_show_grids = {'x': {'grid_lines': 'solid'}, 'y': {'grid_lines': 'solid'}}"
   ]
  },
  {
   "cell_type": "code",
   "execution_count": 8,
   "metadata": {
    "collapsed": false,
    "deletable": true,
    "editable": true,
    "scrolled": true
   },
   "outputs": [],
   "source": [
    "from ipywidgets import Button, Box\n",
    "from IPython.display import display\n",
    "from bqplot import LinearScale\n",
    "\n",
    "btn = Button(description='Cluster', background_color='lightgreen', font_weight='bolder', color='black')\n",
    "btn.on_click(cluster)"
   ]
  },
  {
   "cell_type": "code",
   "execution_count": 9,
   "metadata": {
    "collapsed": false,
    "deletable": true,
    "editable": true,
    "scrolled": true
   },
   "outputs": [
    {
     "data": {
      "application/vnd.jupyter.widget-view+json": {
       "model_id": "5eb886130cea440aaf8268f65be47a06"
      }
     },
     "metadata": {},
     "output_type": "display_data"
    },
    {
     "data": {
      "application/vnd.jupyter.widget-view+json": {
       "model_id": "8112f0ea4e4940038c3bcc48db5e3acb"
      }
     },
     "metadata": {},
     "output_type": "display_data"
    }
   ],
   "source": [
    "display(Box([btn]))\n",
    "sc_x = LinearScale(min=np.min(data_reshaped[:, 0]), max=np.max(data_reshaped[:, 0])) \n",
    "sc_y = LinearScale(min=np.min(data_reshaped[:, 0]), max=np.max(data_reshaped[:, 1]))\n",
    "\n",
    "plt.figure(title='K Means Example')\n",
    "scat = plt.scatter(data_reshaped[:, 0], data_reshaped[:, 1], stroke='black', \n",
    "                   scales={'x': sc_x, 'y': sc_y},\n",
    "                   axes_options=_show_grids)\n",
    "plt.show(display_toolbar=False)"
   ]
  },
  {
   "cell_type": "code",
   "execution_count": 10,
   "metadata": {
    "collapsed": true,
    "deletable": true,
    "editable": true,
    "scrolled": true
   },
   "outputs": [],
   "source": [
    "plt.figure(title='Total Data', min_width=600, min_height=600)\n",
    "scat2 = plt.scatter(data_reshaped[:, 0], data_reshaped[:, 1], stroke='black',\n",
    "                  axes_options=_show_grids, unselected_style={'opacity': 0.2})\n",
    "fig2 = plt.current_figure()\n",
    "\n",
    "scat.tooltip = fig2"
   ]
  },
  {
   "cell_type": "code",
   "execution_count": 11,
   "metadata": {
    "collapsed": false,
    "deletable": true,
    "editable": true,
    "scrolled": true
   },
   "outputs": [],
   "source": [
    "def hover_handler(*args):\n",
    "    index = args[1]['data']['index']\n",
    "    scat2.default_colors = [_default_colors[index]]\n",
    "    scat2.selected = np.flatnonzero(labels == index).tolist()\n",
    "\n",
    "scat.on_hover(hover_handler)"
   ]
  }
 ],
 "metadata": {
  "kernelspec": {
   "display_name": "Python 3 (sandboxed)",
   "language": "python",
   "name": "python3"
  },
  "language_info": {
   "codemirror_mode": {
    "name": "ipython",
    "version": 3
   },
   "file_extension": ".py",
   "mimetype": "text/x-python",
   "name": "python",
   "nbconvert_exporter": "python",
   "pygments_lexer": "ipython3",
   "version": "3.5.2"
  }
 },
 "nbformat": 4,
 "nbformat_minor": 0
}
