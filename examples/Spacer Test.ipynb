{
 "cells": [
  {
   "cell_type": "code",
   "execution_count": 14,
   "metadata": {
    "collapsed": false
   },
   "outputs": [
    {
     "data": {
      "application/vnd.jupyter.widget-view+json": {
       "model_id": "c8a5e98dcc054f639ec8ad0d28a1528f",
       "version_major": "2",
       "version_minor": "0"
      },
      "text/plain": [
       "A Jupyter Widget"
      ]
     },
     "metadata": {},
     "output_type": "display_data"
    }
   ],
   "source": [
    "from ipywidgets import Layout, HBox, Box\n",
    "from bqplot import Figure, Lines, LinearScale\n",
    "\n",
    "spacer_layout = Layout(width='17%')\n",
    "fig_layout = Layout(width='33%')\n",
    "fig_margin = {'top': '0', 'left': '0', 'right': '0', 'bottom': '0'}\n",
    "\n",
    "s1, s2 = Box(layout=spacer_layout), Box(layout=spacer_layout)\n",
    "lin = Lines(x=[1., 2., 3.], y=[1., 1.5, 1.], \n",
    "            scales={'x': LinearScale(), 'y': LinearScale()})\n",
    "f1, f2 = Figure(marks=[lin], layout=fig_layout, fig_margin=fig_margin), Figure(marks=[lin], layout=fig_layout, fig_margin=fig_margin)\n",
    "HBox([s1, f1, f2, s2])"
   ]
  }
 ],
 "metadata": {
  "kernelspec": {
   "display_name": "Python [conda root]",
   "language": "python",
   "name": "conda-root-py"
  },
  "language_info": {
   "codemirror_mode": {
    "name": "ipython",
    "version": 3
   },
   "file_extension": ".py",
   "mimetype": "text/x-python",
   "name": "python",
   "nbconvert_exporter": "python",
   "pygments_lexer": "ipython3",
   "version": "3.5.3"
  }
 },
 "nbformat": 4,
 "nbformat_minor": 2
}
