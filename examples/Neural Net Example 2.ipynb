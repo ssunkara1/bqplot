{
 "cells": [
  {
   "cell_type": "code",
   "execution_count": 1,
   "metadata": {
    "collapsed": false,
    "deletable": true,
    "editable": true
   },
   "outputs": [
    {
     "name": "stderr",
     "output_type": "stream",
     "text": [
      "Using TensorFlow backend.\n"
     ]
    }
   ],
   "source": [
    "from __future__ import print_function\n",
    "import keras\n",
    "from keras.datasets import mnist\n",
    "from keras.models import Sequential\n",
    "from keras.layers import Dense, Dropout, Flatten\n",
    "from keras.layers import Conv2D, MaxPooling2D\n",
    "from keras.callbacks import Callback\n",
    "from keras import backend as K\n",
    "from keras.utils.np_utils import to_categorical"
   ]
  },
  {
   "cell_type": "code",
   "execution_count": 2,
   "metadata": {
    "collapsed": true,
    "deletable": true,
    "editable": true
   },
   "outputs": [],
   "source": [
    "from bqplot import pyplot as plt\n",
    "from bqplot import ColorScale, OrdinalScale, OrdinalColorScale, CATEGORY10\n",
    "from ipywidgets import HBox, VBox, Layout, FloatProgress, Label, IntSlider, Dropdown\n",
    "from IPython.display import display\n",
    "import numpy as np"
   ]
  },
  {
   "cell_type": "code",
   "execution_count": 3,
   "metadata": {
    "collapsed": true,
    "deletable": true,
    "editable": true
   },
   "outputs": [],
   "source": [
    "import warnings\n",
    "warnings.simplefilter('ignore')"
   ]
  },
  {
   "cell_type": "code",
   "execution_count": 4,
   "metadata": {
    "collapsed": false,
    "deletable": true,
    "editable": true
   },
   "outputs": [],
   "source": [
    "batch_size = 64\n",
    "num_classes = 10\n",
    "epochs = 20\n",
    "\n",
    "# input image dimensions\n",
    "img_rows, img_cols = 28, 28\n",
    "\n",
    "# the data, shuffled and split between train and test sets\n",
    "(x_train, y_train), (x_test, y_test) = mnist.load_data('E:/code/data/mnist.npz')"
   ]
  },
  {
   "cell_type": "code",
   "execution_count": 5,
   "metadata": {
    "collapsed": false,
    "deletable": true,
    "editable": true
   },
   "outputs": [
    {
     "name": "stdout",
     "output_type": "stream",
     "text": [
      "x_train shape: (60000, 28, 28)\n",
      "60000 train samples\n",
      "10000 test samples\n"
     ]
    }
   ],
   "source": [
    "x_train = x_train.astype('float32')\n",
    "x_test = x_test.astype('float32')\n",
    "x_train /= 255\n",
    "x_test /= 255\n",
    "print('x_train shape:', x_train.shape)\n",
    "print(x_train.shape[0], 'train samples')\n",
    "print(x_test.shape[0], 'test samples')"
   ]
  },
  {
   "cell_type": "code",
   "execution_count": 6,
   "metadata": {
    "collapsed": false,
    "deletable": true,
    "editable": true
   },
   "outputs": [],
   "source": [
    "train_test_dd = Dropdown(options=['Train', 'Test'])\n",
    "sel_slid = IntSlider(min=0, max=x_train.shape[0]-1, description='Index')\n",
    "fig_map = plt.figure()\n",
    "heat_map = plt.heatmap(color=x_train[0][::-1], scales={'color': ColorScale(scheme='Greys')},\n",
    "                      axes_options={'x': {'visible': False},\n",
    "                                    'y': {'visible': False},\n",
    "                                    'color': {'visible': False}})\n",
    "\n",
    "def slid_changed(change):\n",
    "    heat_map.color = x_train[sel_slid.value][::-1]\n",
    "    \n",
    "def dd_changed(change):\n",
    "    sel_slid.value = 0\n",
    "    if train_test_dd.value == 'Train':\n",
    "        sel_slid.max = x_train.shape[0]\n",
    "    else:\n",
    "        sel_slid.max = x_test.shape[0]\n",
    "    \n",
    "    slid_changed(None)\n",
    "    \n",
    "sel_slid.observe(slid_changed, 'value')\n",
    "train_test_dd.observe(dd_changed, 'value')"
   ]
  },
  {
   "cell_type": "code",
   "execution_count": 7,
   "metadata": {
    "collapsed": false,
    "deletable": true,
    "editable": true
   },
   "outputs": [
    {
     "data": {
      "application/vnd.jupyter.widget-view+json": {
       "model_id": "2e925fb1ae824c5591402d248395e1a9"
      }
     },
     "metadata": {},
     "output_type": "display_data"
    }
   ],
   "source": [
    "VBox([HBox([train_test_dd, sel_slid]), fig_map])"
   ]
  },
  {
   "cell_type": "code",
   "execution_count": 25,
   "metadata": {
    "collapsed": true,
    "deletable": true,
    "editable": true
   },
   "outputs": [],
   "source": [
    "from sklearn.manifold import TSNE\n",
    "tsne_x = x_train[:1000, :, :].reshape(1000, 784)\n",
    "axes_opt = {'x': {'visible': False}, 'y': {'visible': False}, 'color': {'visible': False}}"
   ]
  },
  {
   "cell_type": "code",
   "execution_count": 26,
   "metadata": {
    "collapsed": false,
    "deletable": true,
    "editable": true
   },
   "outputs": [
    {
     "data": {
      "application/vnd.jupyter.widget-view+json": {
       "model_id": "301d8b3429bc4abba877651a837280d0"
      }
     },
     "metadata": {},
     "output_type": "display_data"
    }
   ],
   "source": [
    "tsn = TSNE()\n",
    "low_x = tsn.fit_transform(tsne_x)\n",
    "\n",
    "tt_fig = plt.figure(min_height='200px')\n",
    "hmap_sc = ColorScale(scheme='Greys')\n",
    "hmap = plt.heatmap(x_train[0][::-1], scales={'color': hmap_sc}, axes_options=axes_opt)\n",
    "\n",
    "fig = plt.figure(title='TSNE with Hover')\n",
    "ind = 1000\n",
    "ord_sc = OrdinalColorScale(colors=CATEGORY10, domain=list(range(10)))\n",
    "scat = plt.scatter(low_x[:ind, 0], low_x[:ind, 1], color=y_train[:ind], tooltip=tt_fig, scales={'color':ord_sc},\n",
    "                  stroke='Black')\n",
    "\n",
    "def hovered(name, value):\n",
    "    if scat.hovered_point is not None:\n",
    "        hmap.color = x_train[scat.hovered_point, :, :][::-1]\n",
    "    \n",
    "scat.on_hover(hovered)\n",
    "fig"
   ]
  },
  {
   "cell_type": "code",
   "execution_count": 27,
   "metadata": {
    "collapsed": false,
    "deletable": true,
    "editable": true
   },
   "outputs": [],
   "source": [
    "class Dashboard(Callback):\n",
    "    \n",
    "    def __init__(self):\n",
    "        self.train_loss = []\n",
    "        self.test_loss = []\n",
    "        self.weight_norms = []\n",
    "        \n",
    "        self.fig_line = plt.figure(title='Training and Test Errors')\n",
    "        self.lines = plt.plot([0], [0], marker='circle', marker_size=32, colors=['DeepSkyBlue', 'Red'], \n",
    "                              labels=['Training', 'Test'], display_legend=True)\n",
    "        \n",
    "        self.fig_wts = plt.figure(title='L1 Norm of Weights - by layer', legend_location='top-left')\n",
    "        # self.bars = plt.bar([0],[0], colors=['MediumSeaGreen'], scales={'x': OrdinalScale()}, type='grouped')\n",
    "        self.bars = plt.plot([0],[0], marker='circle', labels=['Layer1', 'Layer2', 'Layer3'], \n",
    "                             marker_size=32, display_legend=True)\n",
    "        \n",
    "        self.train_label = Label(value='Train Accuracy: ', layout=Layout(width='800px'))\n",
    "        self.test_label = Label(value='Test Accuracy: ', layout=Layout(width='800px'))\n",
    "        self.prog_bar = FloatProgress(description='Epoch 0')\n",
    "        self.layout = VBox([self.prog_bar, HBox([self.fig_line, self.fig_wts]), self.train_label, self.test_label],\n",
    "                          layout=Layout(flex='1'))\n",
    "        display(self.layout)\n",
    "        \n",
    "    def on_train_begin(self, logs={}):\n",
    "        self.prog_bar.min, self.prog_bar.max = 0, self.params['epochs']\n",
    "        # self.bars.x = list(np.arange(0, len(self.model.layers)))\n",
    "        \n",
    "    def on_epoch_end(self, epoch, log={}):\n",
    "        epoch_train_acc = np.mean(np.argmax(self.model.predict(x_train_flat), axis=1)==y_train)\n",
    "        epoch_test_acc = np.mean(np.argmax(self.model.predict(x_test_flat), axis=1)==y_test)\n",
    "        \n",
    "        self.train_loss.append(1 - epoch_train_acc)\n",
    "        self.test_loss.append(1 - epoch_test_acc)\n",
    "\n",
    "        self.lines.x, self.lines.y = np.arange(0, epoch + 1), [self.train_loss, self.test_loss]\n",
    "        \n",
    "        weight_norm = []\n",
    "        for layer in np.arange(0, len(self.model.layers)):\n",
    "            wts = self.model.layers[layer].get_weights()[0]\n",
    "            bias = (self.model.layers[layer].get_weights()[1])\n",
    "            weight_norm.append((np.sum(np.abs(wts)) / wts.shape[0])) # + (np.sum(np.abs(bias)) / bias.shape[0]))\n",
    "        self.weight_norms.append(weight_norm)\n",
    "            \n",
    "        self.bars.x = list(np.arange(0, epoch+1))\n",
    "        self.bars.y = (np.array(self.weight_norms) / np.array(self.weight_norms)[0]).T\n",
    "        \n",
    "        self.prog_bar.description = 'Epoch ' + str(epoch + 1) + '/' + str(self.params['epochs'])\n",
    "        self.prog_bar.value += 1.\n",
    "        \n",
    "        self.train_label.value = 'Train Accuracy: ' + str(epoch_train_acc)\n",
    "        self.test_label.value = 'Test Accuracy: ' + str(epoch_test_acc)"
   ]
  },
  {
   "cell_type": "code",
   "execution_count": 28,
   "metadata": {
    "collapsed": true,
    "deletable": true,
    "editable": true
   },
   "outputs": [],
   "source": [
    "x_train_flat = x_train.reshape(60000, 784)\n",
    "x_test_flat = x_test.reshape(10000, 784)\n",
    "num_train, num_test = 10000, 1500\n",
    "\n",
    "x_train_flat = x_train_flat[:num_train]\n",
    "y_train = y_train[:num_train]\n",
    "\n",
    "x_test_flat = x_test_flat[:num_test]\n",
    "y_test = y_test[:num_test]\n",
    "\n",
    "# convert class vectors to binary class matrices\n",
    "y_train_cat = to_categorical(y_train, num_classes)\n",
    "y_test_cat = to_categorical(y_test, num_classes)"
   ]
  },
  {
   "cell_type": "code",
   "execution_count": 30,
   "metadata": {
    "collapsed": false,
    "deletable": true,
    "editable": true,
    "scrolled": true
   },
   "outputs": [
    {
     "data": {
      "application/vnd.jupyter.widget-view+json": {
       "model_id": "d9304bade13b4fa5ae56defc56e0613c"
      }
     },
     "metadata": {},
     "output_type": "display_data"
    }
   ],
   "source": [
    "np.random.seed(0)\n",
    "\n",
    "call_back = Dashboard()\n",
    "\n",
    "import tensorflow as tf\n",
    "sess = tf.InteractiveSession()\n",
    "K.set_session(sess)\n",
    "\n",
    "model = Sequential()\n",
    "model.add(Dense(50, activation='relu', input_shape=(784,)))\n",
    "model.add(Dense(50, activation='relu'))\n",
    "model.add(Dense(10, activation='softmax'))\n",
    "\n",
    "model.compile(loss=keras.metrics.categorical_crossentropy,\n",
    "              optimizer=keras.optimizers.Adadelta(),\n",
    "              metrics=['accuracy'], verbose=False)\n",
    "\n",
    "_ = model.fit(x_train_flat, y_train_cat,\n",
    "          batch_size=batch_size,\n",
    "          epochs=epochs,\n",
    "          verbose=False,\n",
    "          validation_data=(x_test_flat, y_test_cat), callbacks=[call_back])\n",
    "sess.close()"
   ]
  },
  {
   "cell_type": "code",
   "execution_count": null,
   "metadata": {
    "collapsed": true,
    "deletable": true,
    "editable": true
   },
   "outputs": [],
   "source": []
  }
 ],
 "metadata": {
  "kernelspec": {
   "display_name": "Python [conda root]",
   "language": "python",
   "name": "conda-root-py"
  },
  "language_info": {
   "codemirror_mode": {
    "name": "ipython",
    "version": 3
   },
   "file_extension": ".py",
   "mimetype": "text/x-python",
   "name": "python",
   "nbconvert_exporter": "python",
   "pygments_lexer": "ipython3",
   "version": "3.5.2"
  }
 },
 "nbformat": 4,
 "nbformat_minor": 2
}
