{
 "cells": [
  {
   "cell_type": "code",
   "execution_count": 1,
   "metadata": {},
   "outputs": [
    {
     "name": "stderr",
     "output_type": "stream",
     "text": [
      "Using TensorFlow backend.\n"
     ]
    }
   ],
   "source": [
    "from __future__ import print_function\n",
    "import keras\n",
    "from keras.datasets import mnist\n",
    "from keras.models import Sequential\n",
    "from keras.layers import Dense, Dropout, Flatten\n",
    "from keras.layers import Conv2D, MaxPooling2D\n",
    "from keras.callbacks import Callback\n",
    "from keras import backend as K\n",
    "from keras.utils.np_utils import to_categorical"
   ]
  },
  {
   "cell_type": "code",
   "execution_count": 2,
   "metadata": {
    "collapsed": true
   },
   "outputs": [],
   "source": [
    "from bqplot import pyplot as plt\n",
    "from bqplot import ColorScale, OrdinalScale\n",
    "from ipywidgets import HBox, VBox, Layout, FloatProgress, Label, IntSlider, Dropdown\n",
    "from IPython.display import display\n",
    "import numpy as np"
   ]
  },
  {
   "cell_type": "code",
   "execution_count": 3,
   "metadata": {},
   "outputs": [
    {
     "name": "stdout",
     "output_type": "stream",
     "text": [
      "Downloading data from https://s3.amazonaws.com/img-datasets/mnist.npz\n"
     ]
    }
   ],
   "source": [
    "batch_size = 128\n",
    "num_classes = 10\n",
    "epochs = 10\n",
    "\n",
    "# input image dimensions\n",
    "img_rows, img_cols = 28, 28\n",
    "\n",
    "# the data, shuffled and split between train and test sets\n",
    "(x_train, y_train), (x_test, y_test) = mnist.load_data()"
   ]
  },
  {
   "cell_type": "code",
   "execution_count": 4,
   "metadata": {},
   "outputs": [
    {
     "name": "stdout",
     "output_type": "stream",
     "text": [
      "x_train shape: (60000, 28, 28)\n",
      "60000 train samples\n",
      "10000 test samples\n"
     ]
    }
   ],
   "source": [
    "x_train = x_train.astype('float32')\n",
    "x_test = x_test.astype('float32')\n",
    "x_train /= 255\n",
    "x_test /= 255\n",
    "print('x_train shape:', x_train.shape)\n",
    "print(x_train.shape[0], 'train samples')\n",
    "print(x_test.shape[0], 'test samples')"
   ]
  },
  {
   "cell_type": "code",
   "execution_count": 5,
   "metadata": {},
   "outputs": [],
   "source": [
    "train_test_dd = Dropdown(options=['Train', 'Test'])\n",
    "sel_slid = IntSlider(min=0, max=x_train.shape[0]-1, description='Index')\n",
    "fig_map = plt.figure()\n",
    "heat_map = plt.heatmap(color=x_train[0][::-1], scales={'color': ColorScale(scheme='Greys')},\n",
    "                      axes_options={'x': {'visible': False},\n",
    "                                    'y': {'visible': False},\n",
    "                                    'color': {'visible': False}})\n",
    "\n",
    "def slid_changed(change):\n",
    "    heat_map.color = x_train[sel_slid.value][::-1]\n",
    "    \n",
    "def dd_changed(change):\n",
    "    sel_slid.value = 0\n",
    "    if train_test_dd.value == 'Train':\n",
    "        sel_slid.max = x_train.shape[0]\n",
    "    else:\n",
    "        sel_slid.max = x_test.shape[0]\n",
    "    \n",
    "    slid_changed(None)\n",
    "    \n",
    "sel_slid.observe(slid_changed, 'value')\n",
    "train_test_dd.observe(dd_changed, 'value')"
   ]
  },
  {
   "cell_type": "code",
   "execution_count": 6,
   "metadata": {},
   "outputs": [
    {
     "data": {
      "application/vnd.jupyter.widget-view+json": {
       "model_id": "ae9f44960650494e88fd0d353a47196b"
      }
     },
     "metadata": {},
     "output_type": "display_data"
    }
   ],
   "source": [
    "VBox([HBox([train_test_dd, sel_slid]), fig_map])"
   ]
  },
  {
   "cell_type": "code",
   "execution_count": 11,
   "metadata": {
    "collapsed": true
   },
   "outputs": [],
   "source": [
    "class Dashboard(Callback):\n",
    "    \n",
    "    def __init__(self):\n",
    "        self.train_loss = []\n",
    "        self.test_loss = []\n",
    "        \n",
    "        self.fig_line = plt.figure(title='Training and Test Errors')\n",
    "        self.lines = plt.plot([0], [0], colors=['DeepSkyBlue', 'Red'], labels=['Training', 'Test'],\n",
    "                              display_legend=True)\n",
    "        \n",
    "        self.fig_wts = plt.figure(title='L1 Norm of Weights - by layer')\n",
    "        self.bars = plt.bar([0],[0], colors=['MediumSeaGreen'], scales={'x': OrdinalScale()})\n",
    "        self.train_label = Label(value='Train Accuracy: ', layout=Layout(width='800px'))\n",
    "        self.test_label = Label(value='Test Accuracy: ', layout=Layout(width='800px'))\n",
    "        self.prog_bar = FloatProgress(description='Epoch 0')\n",
    "        self.layout = VBox([self.prog_bar, HBox([self.fig_line, self.fig_wts]), self.train_label, self.test_label],\n",
    "                          layout=Layout(flex='1'))\n",
    "        display(self.layout)\n",
    "        \n",
    "    def on_train_begin(self, logs={}):\n",
    "        self.prog_bar.min, self.prog_bar.max = 0, self.params['epochs']\n",
    "        self.bars.x = list(np.arange(0, len(self.model.layers)))\n",
    "        \n",
    "    def on_epoch_end(self, epoch, log={}):\n",
    "        epoch_train_acc = np.mean(np.argmax(self.model.predict(x_train_flat), axis=1)==y_train)\n",
    "        epoch_test_acc = np.mean(np.argmax(self.model.predict(x_test_flat), axis=1)==y_test)\n",
    "        \n",
    "        self.train_loss.append(1 - epoch_train_acc)\n",
    "        self.test_loss.append(1 - epoch_test_acc)\n",
    "\n",
    "        self.lines.x, self.lines.y = np.arange(0, epoch), [self.train_loss, self.test_loss]\n",
    "        \n",
    "        weight_norm = []\n",
    "        for layer in np.arange(0, len(self.model.layers)):\n",
    "            wts = self.model.layers[layer].get_weights()[0]\n",
    "            weight_norm.append(np.sum(np.abs(wts)) / wts.shape[0])\n",
    "        self.bars.y = weight_norm\n",
    "        \n",
    "        self.prog_bar.description = 'Epoch ' + str(epoch + 1) + '/' + str(self.params['epochs'])\n",
    "        self.prog_bar.value += 1.\n",
    "        \n",
    "        self.train_label.value = 'Train Accuracy: ' + str(epoch_train_acc)\n",
    "        self.test_label.value = 'Test Accuracy: ' + str(epoch_test_acc)"
   ]
  },
  {
   "cell_type": "code",
   "execution_count": 12,
   "metadata": {
    "collapsed": true
   },
   "outputs": [],
   "source": [
    "x_train_flat = x_train.reshape(60000, 784)\n",
    "x_test_flat = x_test.reshape(10000, 784)"
   ]
  },
  {
   "cell_type": "code",
   "execution_count": 13,
   "metadata": {
    "collapsed": true
   },
   "outputs": [],
   "source": [
    "# convert class vectors to binary class matrices\n",
    "y_train_cat = to_categorical(y_train, num_classes)\n",
    "y_test_cat = to_categorical(y_test, num_classes)"
   ]
  },
  {
   "cell_type": "code",
   "execution_count": 14,
   "metadata": {
    "scrolled": true
   },
   "outputs": [
    {
     "data": {
      "application/vnd.jupyter.widget-view+json": {
       "model_id": "548fe060cf8c43998441755884b37e4d"
      }
     },
     "metadata": {},
     "output_type": "display_data"
    },
    {
     "name": "stderr",
     "output_type": "stream",
     "text": [
      "C:\\Users\\ssunkara1\\AppData\\Local\\Continuum\\Anaconda3\\lib\\site-packages\\keras\\backend\\tensorflow_backend.py:2124: UserWarning: Expected no kwargs, you passed 1\n",
      "kwargs passed to function are ignored with Tensorflow backend\n",
      "  warnings.warn('\\n'.join(msg))\n"
     ]
    }
   ],
   "source": [
    "model = Sequential()\n",
    "model.add(Dense(50, activation='relu', input_shape=(784,)))\n",
    "model.add(Dense(50, activation='relu'))\n",
    "model.add(Dense(10, activation='softmax'))\n",
    "\n",
    "model.compile(loss=keras.metrics.categorical_crossentropy,\n",
    "              optimizer=keras.optimizers.Adadelta(),\n",
    "              metrics=['accuracy'], verbose=False)\n",
    "\n",
    "_ = model.fit(x_train_flat, y_train_cat,\n",
    "          batch_size=batch_size,\n",
    "          epochs=epochs,\n",
    "          verbose=False,\n",
    "          validation_data=(x_test_flat, y_test_cat), callbacks=[Dashboard()])"
   ]
  },
  {
   "cell_type": "code",
   "execution_count": null,
   "metadata": {
    "collapsed": true
   },
   "outputs": [],
   "source": []
  }
 ],
 "metadata": {
  "kernelspec": {
   "display_name": "Python [conda root]",
   "language": "python",
   "name": "conda-root-py"
  },
  "language_info": {
   "codemirror_mode": {
    "name": "ipython",
    "version": 3
   },
   "file_extension": ".py",
   "mimetype": "text/x-python",
   "name": "python",
   "nbconvert_exporter": "python",
   "pygments_lexer": "ipython3",
   "version": "3.5.2"
  }
 },
 "nbformat": 4,
 "nbformat_minor": 2
}
