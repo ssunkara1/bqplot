{
 "cells": [
  {
   "cell_type": "code",
   "execution_count": null,
   "metadata": {},
   "outputs": [],
   "source": [
    "import bqplot\n",
    "import numpy as np\n",
    "import bqplot.pyplot as plt\n",
    "\n",
    "scat_x = np.random.randn(5)\n",
    "scat_y = np.random.randn(5)\n",
    "scat_color = np.random.randn(5)\n",
    "\n",
    "def_scales = {'color': bqplot.ColorScale()}\n",
    "\n",
    "plt.figure(animation_duration=1000)\n",
    "scat = plt.scatter(scat_x, scat_y, color=scat_color, scales=def_scales, enable_move=True)\n",
    "plt.show()"
   ]
  },
  {
   "cell_type": "code",
   "execution_count": null,
   "metadata": {},
   "outputs": [],
   "source": [
    "scat.x = np.random.randn(30)\n",
    "scat.y = np.random.randn(30)\n",
    "scat.color = np.random.randn(30)\n",
    "def_scales['color'].min=-5"
   ]
  }
 ],
 "metadata": {
  "kernelspec": {
   "display_name": "Python [conda root]",
   "language": "python",
   "name": "conda-root-py"
  },
  "language_info": {
   "codemirror_mode": {
    "name": "ipython",
    "version": 3
   },
   "file_extension": ".py",
   "mimetype": "text/x-python",
   "name": "python",
   "nbconvert_exporter": "python",
   "pygments_lexer": "ipython3",
   "version": "3.5.3"
  }
 },
 "nbformat": 4,
 "nbformat_minor": 2
}
