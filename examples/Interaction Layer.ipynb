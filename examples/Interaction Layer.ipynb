{
 "cells": [
  {
   "cell_type": "code",
   "execution_count": null,
   "metadata": {
    "collapsed": false
   },
   "outputs": [],
   "source": [
    "import pandas as pd\n",
    "import numpy as np\n",
    "symbol = 'Security 1'"
   ]
  },
  {
   "cell_type": "code",
   "execution_count": null,
   "metadata": {
    "collapsed": false
   },
   "outputs": [],
   "source": [
    "price_data = pd.DataFrame(np.cumsum(np.random.randn(150, 2).dot([[0.5, 0.4], [0.4, 1.0]]), axis=0) + 100,\n",
    "                          columns=['Security 1', 'Security 2'], index=pd.date_range(start='01-01-2007', periods=150))\n",
    "\n",
    "dates_actual = price_data.index.values\n",
    "prices = price_data[symbol].values"
   ]
  },
  {
   "cell_type": "code",
   "execution_count": null,
   "metadata": {
    "collapsed": false
   },
   "outputs": [],
   "source": [
    "from bqplot import *\n",
    "from bqplot.interacts import *\n",
    "from traitlets import link\n",
    "\n",
    "from IPython.display import display\n",
    "from ipywidgets import Latex, ToggleButtons, VBox"
   ]
  },
  {
   "cell_type": "code",
   "execution_count": null,
   "metadata": {
    "collapsed": false
   },
   "outputs": [],
   "source": [
    "## call back for selectors\n",
    "def interval_change_callback(name, value):\n",
    "    db.value = str(value)"
   ]
  },
  {
   "cell_type": "markdown",
   "metadata": {},
   "source": [
    "# Line Chart Selectors"
   ]
  },
  {
   "cell_type": "markdown",
   "metadata": {},
   "source": [
    "## Fast Interval Selector"
   ]
  },
  {
   "cell_type": "code",
   "execution_count": null,
   "metadata": {
    "collapsed": false
   },
   "outputs": [],
   "source": [
    "dt_x = DateScale()\n",
    "# lin_x = LinearScale(min=-50, max=len(dates) + 50)\n",
    "lin_y = LinearScale()\n",
    "\n",
    "x_ax = Axis(label=\"Index\", scale = dt_x)\n",
    "x_ay = Axis(label=(symbol + \" Price\"), scale = lin_y, orientation=\"vertical\", tick_format=\"0.2f\")\n",
    "lc = Lines(x=dates_actual, y=prices, scales={'x': dt_x, 'y': lin_y}, colors=['orange'])\n",
    "lc_2 = Lines(x=dates_actual[50:], y=prices[50:] + 2, scales={'x': dt_x, 'y': lin_y}, colors=['yellow'])\n",
    "\n",
    "intsel = FastIntervalSelector(scale=dt_x, marks=[lc, lc_2])\n",
    "intsel.on_trait_change(interval_change_callback, name='selected')\n",
    "\n",
    "db = Latex()\n",
    "db.value = str(intsel.selected)\n",
    "display(db)\n",
    "\n",
    "fig = Figure(marks=[lc, lc_2], axes=[x_ax, x_ay], title=\"Ford Historic Time Series\", interaction=intsel)\n",
    "display(fig)"
   ]
  },
  {
   "cell_type": "markdown",
   "metadata": {},
   "source": [
    "## Index Selector"
   ]
  },
  {
   "cell_type": "code",
   "execution_count": null,
   "metadata": {
    "collapsed": false
   },
   "outputs": [],
   "source": [
    "index_sel = IndexSelector(scale=dt_x, marks=[lc, lc_2])\n",
    "index_sel.on_trait_change(interval_change_callback, name='selected')\n",
    "fig.interaction = index_sel"
   ]
  },
  {
   "cell_type": "code",
   "execution_count": null,
   "metadata": {
    "collapsed": false
   },
   "outputs": [],
   "source": [
    "## call back for selectors\n",
    "def date_interval_change_callback(name, value):\n",
    "    db_date.value = str(value)"
   ]
  },
  {
   "cell_type": "code",
   "execution_count": null,
   "metadata": {
    "collapsed": false
   },
   "outputs": [],
   "source": [
    "from datetime import datetime as py_dtime\n",
    "\n",
    "dt_x = DateScale(min=np.datetime64(py_dtime(2006, 6, 1)))\n",
    "lc2_y = LinearScale()\n",
    "\n",
    "lc2 = Lines(x=dates_actual, y=prices,\n",
    "            scales={'x': dt_x, 'y': lc2_y})\n",
    "\n",
    "x_ax1 = Axis(label=\"Date\", scale = dt_x)\n",
    "x_ay2 = Axis(label=(symbol + \" Price\"), scale = lc2_y, orientation=\"vertical\", tick_format=\"0.2f\")\n",
    "\n",
    "intsel_date = FastIntervalSelector(scale=dt_x, marks=[lc2])\n",
    "db_date = Latex()\n",
    "db_date.value = str(intsel_date.selected)\n",
    "display(db_date)\n",
    "lc2.on_trait_change(date_interval_change_callback, name='selected')\n",
    "\n",
    "fig = Figure(marks=[lc2], axes=[x_ax1, x_ay2], interaction=intsel_date)\n",
    "display(fig)"
   ]
  },
  {
   "cell_type": "markdown",
   "metadata": {},
   "source": [
    "## Brush Selector"
   ]
  },
  {
   "cell_type": "code",
   "execution_count": null,
   "metadata": {
    "collapsed": false
   },
   "outputs": [],
   "source": [
    "intsel_date = BrushIntervalSelector(scale=dt_x, marks=[lc2], color='blue')\n",
    "lc2.on_trait_change(date_interval_change_callback, name='selected')\n",
    "fig.interaction = intsel_date"
   ]
  },
  {
   "cell_type": "markdown",
   "metadata": {},
   "source": [
    "# Scatter Chart Selectors"
   ]
  },
  {
   "cell_type": "code",
   "execution_count": null,
   "metadata": {
    "collapsed": false
   },
   "outputs": [],
   "source": [
    "symbol2 = 'Security 2'\n",
    "date_fmt = '%m-%d-%Y'\n",
    "\n",
    "sec2_data = price_data[symbol2].values\n",
    "dates = price_data.index.values"
   ]
  },
  {
   "cell_type": "code",
   "execution_count": null,
   "metadata": {
    "collapsed": false
   },
   "outputs": [],
   "source": [
    "## call back for the selector\n",
    "def brush_callback(name, value):\n",
    "    if(not br_sel.brushing):\n",
    "        db2.value = str(br_sel.selected)"
   ]
  },
  {
   "cell_type": "markdown",
   "metadata": {},
   "source": [
    "## Brush Selector"
   ]
  },
  {
   "cell_type": "code",
   "execution_count": null,
   "metadata": {
    "collapsed": false
   },
   "outputs": [],
   "source": [
    "sc_x = LinearScale()\n",
    "sc_y = LinearScale()\n",
    "\n",
    "scatt = Scatter(x=prices, y=sec2_data,\n",
    "                scales={'x': sc_x, 'y': sc_y})\n",
    "\n",
    "br_sel = BrushSelector(x_scale=sc_x, y_scale=sc_y, marks=[scatt], color='red')\n",
    "br_sel.on_trait_change(brush_callback, name='brushing')\n",
    "\n",
    "db2 = Latex()\n",
    "db2.value = str(br_sel.selected)\n",
    "display(db2)\n",
    "\n",
    "sc_xax = Axis(label=(symbol), scale=sc_x, tick_format=\"0.0f\")\n",
    "sc_yax = Axis(label=(symbol2), scale=sc_y, orientation=\"vertical\", tick_format=\"0.0f\")\n",
    "fig = Figure(marks =[scatt], axes=[sc_xax, sc_yax], interaction=br_sel)\n",
    "display(fig)"
   ]
  },
  {
   "cell_type": "markdown",
   "metadata": {},
   "source": [
    "## Brush Selector with Date Values"
   ]
  },
  {
   "cell_type": "code",
   "execution_count": null,
   "metadata": {
    "collapsed": false
   },
   "outputs": [],
   "source": [
    "sc_date_x = DateScale(date_format=date_fmt)\n",
    "sc_y = LinearScale()\n",
    "\n",
    "scatt = Scatter(x=dates_actual, y=sec2_data,\n",
    "                scales={'x': sc_date_x, 'y': sc_y})\n",
    "br_sel = BrushSelector(x_scale=sc_date_x, y_scale=sc_y, marks=[scatt])\n",
    "br_sel.on_trait_change(brush_callback, name='brushing')\n",
    "\n",
    "db2 = Latex()\n",
    "db2.value = str(br_sel.selected)\n",
    "display(db2)\n",
    "\n",
    "sc_xax = Axis(label=(symbol), scale=sc_date_x)\n",
    "sc_yax = Axis(label=(symbol2), scale=sc_y, orientation=\"vertical\", tick_format=\"0.0f\")\n",
    "fig = Figure(marks =[scatt], axes=[sc_xax, sc_yax], interaction=br_sel)\n",
    "display(fig)"
   ]
  },
  {
   "cell_type": "markdown",
   "metadata": {},
   "source": [
    "# Histogram Selectors"
   ]
  },
  {
   "cell_type": "code",
   "execution_count": null,
   "metadata": {
    "collapsed": false
   },
   "outputs": [],
   "source": [
    "## call back for selectors\n",
    "def interval_change_callback(name, value):\n",
    "    db3.value = str(value)\n",
    "    \n",
    "## call back for the selector\n",
    "def brush_callback(name, value):\n",
    "    if(not br_intsel.brushing):\n",
    "        db3.value = str(br_intsel.selected)"
   ]
  },
  {
   "cell_type": "code",
   "execution_count": null,
   "metadata": {
    "collapsed": false
   },
   "outputs": [],
   "source": [
    "returns = np.log(prices[1:]) - np.log(prices[:-1])\n",
    "hist_x = LinearScale()\n",
    "hist_y = LinearScale()\n",
    "hist = Hist(sample=returns, scales={'sample': hist_x, 'count': hist_y})\n",
    "\n",
    "br_intsel = BrushIntervalSelector(scale=hist_x, marks=[hist])\n",
    "br_intsel.on_trait_change(brush_callback, name='selected')\n",
    "br_intsel.on_trait_change(brush_callback, name='brushing')\n",
    "\n",
    "db3 = Latex()\n",
    "db3.value = str(br_intsel.selected)\n",
    "display(db3)\n",
    "\n",
    "h_xax = Axis(scale=hist_x, label='Returns', grids='off', set_ticks=True, tick_format='0.2%')\n",
    "h_yax = Axis(scale=hist_y, label='Freq', orientation='vertical', grids='off')\n",
    "\n",
    "fig2 = Figure(marks=[hist], axes=[h_xax, h_yax], interaction=br_intsel)\n",
    "display(fig2)"
   ]
  },
  {
   "cell_type": "markdown",
   "metadata": {},
   "source": [
    "## Multi Selector"
   ]
  },
  {
   "cell_type": "code",
   "execution_count": null,
   "metadata": {
    "collapsed": true
   },
   "outputs": [],
   "source": [
    "def multi_sel_callback(name, value):\n",
    "    if(not multi_sel.brushing):\n",
    "        db3.value = str(multi_sel.selected)"
   ]
  },
  {
   "cell_type": "code",
   "execution_count": null,
   "metadata": {
    "collapsed": false
   },
   "outputs": [],
   "source": [
    "line_x = LinearScale()\n",
    "line_y = LinearScale()\n",
    "line = Lines(x=np.arange(100), y=np.random.randn(100), scales={'x': line_x, 'y': line_y})\n",
    "\n",
    "multi_sel = MultiSelector(scale=line_x, marks=[line])\n",
    "multi_sel.on_trait_change(multi_sel_callback, name='selected')\n",
    "multi_sel.on_trait_change(multi_sel_callback, name='brushing')\n",
    "\n",
    "db3 = Latex()\n",
    "db3.value = str(multi_sel.selected)\n",
    "display(db3)\n",
    "\n",
    "h_xax = Axis(scale=line_x, label='Returns', grids='off', set_ticks=True)\n",
    "h_yax = Axis(scale=hist_y, label='Freq', orientation='vertical', grids='off')\n",
    "\n",
    "fig2 = Figure(marks=[line], axes=[h_xax, h_yax], interaction=multi_sel)\n",
    "display(fig2)"
   ]
  },
  {
   "cell_type": "code",
   "execution_count": null,
   "metadata": {
    "collapsed": false
   },
   "outputs": [],
   "source": [
    "# changing the names of the intervals.\n",
    "multi_sel.names = ['int1', 'int2', 'int3']"
   ]
  },
  {
   "cell_type": "markdown",
   "metadata": {},
   "source": [
    "## Multi Selector with Date X"
   ]
  },
  {
   "cell_type": "code",
   "execution_count": null,
   "metadata": {
    "collapsed": false
   },
   "outputs": [],
   "source": [
    "dt_x = DateScale(min=np.datetime64(py_dtime(2007, 1, 1)))\n",
    "line_y = LinearScale()\n",
    "line = Lines(x=dates_actual, y=sec2_data, scales={'x': dt_x, 'y': line_y}, colors=['red'])\n",
    "\n",
    "multi_sel = MultiSelector(scale=dt_x)\n",
    "multi_sel.on_trait_change(multi_sel_callback, name='selected')\n",
    "multi_sel.on_trait_change(multi_sel_callback, name='brushing')\n",
    "\n",
    "db3 = Latex()\n",
    "db3.value = str(multi_sel.selected)\n",
    "display(db3)\n",
    "\n",
    "h_xax = Axis(scale=dt_x, label='Returns', grids='off')\n",
    "h_yax = Axis(scale=line_y, label='Freq', orientation='vertical', grids='off')\n",
    "\n",
    "fig2 = Figure(marks=[line], axes=[h_xax, h_yax], interaction=multi_sel)\n",
    "display(fig2)"
   ]
  },
  {
   "cell_type": "markdown",
   "metadata": {},
   "source": [
    "## Lasso Selector"
   ]
  },
  {
   "cell_type": "code",
   "execution_count": null,
   "metadata": {
    "collapsed": true
   },
   "outputs": [],
   "source": [
    "lasso_sel = LassoSelector()"
   ]
  },
  {
   "cell_type": "code",
   "execution_count": null,
   "metadata": {
    "collapsed": false
   },
   "outputs": [],
   "source": [
    "xs, ys = LinearScale(), LinearScale()\n",
    "data = np.arange(20)\n",
    "line = Lines(x=data, y=data, scales={'x': xs, 'y': ys})\n",
    "scatter = Scatter(x=data, y=data, scales={'x': xs, 'y': ys}, colors=['skyblue'])\n",
    "bar = Bars(x=data, y=data/2., scales={'x': xs, 'y': ys})\n",
    "xax, yax = Axis(scale=xs, label='X'), Axis(scale=ys, label='Y', orientation='vertical')\n",
    "fig = Figure(marks=[scatter, line, bar], axes=[xax, yax], interaction=lasso_sel)\n",
    "lasso_sel.marks = [scatter, line]\n",
    "display(fig)"
   ]
  },
  {
   "cell_type": "code",
   "execution_count": null,
   "metadata": {
    "collapsed": false
   },
   "outputs": [],
   "source": [
    "scatter.selected, line.selected"
   ]
  },
  {
   "cell_type": "markdown",
   "metadata": {},
   "source": [
    "## Pan Zoom"
   ]
  },
  {
   "cell_type": "code",
   "execution_count": null,
   "metadata": {
    "collapsed": false
   },
   "outputs": [],
   "source": [
    "xs = DateScale(min=np.datetime64(py_dtime(2007, 1, 1)))\n",
    "ys = LinearScale()\n",
    "line = Lines(x=dates_actual, y=sec2_data, scales={'x': xs, 'y': ys}, colors=['red'])\n",
    "\n",
    "panzoom = PanZoom(scales={'x': [xs], 'y': [ys]})\n",
    "xax = Axis(scale=xs, label='Date', grids='off')\n",
    "yax = Axis(scale=ys, label='Price', orientation='vertical', grids='off')\n",
    "\n",
    "fig = Figure(marks=[line], axes=[xax, yax], interaction=panzoom)\n",
    "display(fig)"
   ]
  },
  {
   "cell_type": "markdown",
   "metadata": {},
   "source": [
    "## Hand Draw"
   ]
  },
  {
   "cell_type": "code",
   "execution_count": null,
   "metadata": {
    "collapsed": false
   },
   "outputs": [],
   "source": [
    "xs = DateScale(min=np.datetime64(py_dtime(2007, 1, 1)))\n",
    "ys = LinearScale()\n",
    "line = Lines(x=dates_actual, y=sec2_data, scales={'x': xs, 'y': ys}, colors=['red'])\n",
    "\n",
    "handdraw = HandDraw(lines=line)\n",
    "xax = Axis(scale=xs, label='Date', grids='off')\n",
    "yax = Axis(scale=ys, label='Price', orientation='vertical', grids='off')\n",
    "\n",
    "fig = Figure(marks=[line], axes=[xax, yax], interaction=handdraw)\n",
    "display(fig)"
   ]
  },
  {
   "cell_type": "markdown",
   "metadata": {},
   "source": [
    "# Unified Figure with All Interactions"
   ]
  },
  {
   "cell_type": "code",
   "execution_count": null,
   "metadata": {
    "collapsed": false
   },
   "outputs": [],
   "source": [
    "dt_x = DateScale(date_format=date_fmt, min=py_dtime(2007, 1, 1))\n",
    "lc1_x = LinearScale()\n",
    "lc2_y = LinearScale()\n",
    "\n",
    "lc2 = Lines(x=np.linspace(0.0, 10.0, len(prices)), y=prices * 0.25,\n",
    "            scales={'x': lc1_x, 'y': lc2_y}, \n",
    "            display_legend=True,\n",
    "            labels=['Security 1'])\n",
    "\n",
    "lc3 = Lines(x=dates_actual, y=sec2_data,\n",
    "            scales={'x': dt_x, 'y': lc2_y},\n",
    "            colors=['red'], \n",
    "            display_legend=True, \n",
    "            labels=['Security 2'])\n",
    "\n",
    "lc4 = Lines(x=np.linspace(0.0, 10.0, len(prices)), y=sec2_data * 0.75,\n",
    "            scales={'x': LinearScale(min=5, max=10), 'y': lc2_y},\n",
    "            colors=['green'], display_legend=True, \n",
    "            labels=['Security 2 squared'])\n",
    "\n",
    "x_ax1 = Axis(label='Date', scale=dt_x)\n",
    "x_ax2 = Axis(label='Time', scale=lc1_x, side='top')\n",
    "x_ay2 = Axis(label=(symbol + ' Price'), scale=lc2_y, orientation='vertical', tick_format='0.2f')\n",
    "\n",
    "\n",
    "fig = Figure(marks=[lc2, lc3, lc4], axes=[x_ax1, x_ax2, x_ay2])"
   ]
  },
  {
   "cell_type": "code",
   "execution_count": null,
   "metadata": {
    "collapsed": false
   },
   "outputs": [],
   "source": [
    "## declaring the interactions\n",
    "multi_sel = MultiSelector(scale=dt_x, marks=[lc2, lc3])\n",
    "br_intsel = BrushIntervalSelector(scale=lc1_x, marks=[lc2, lc3])\n",
    "index_sel = IndexSelector(scale=dt_x, marks=[lc2, lc3])\n",
    "int_sel = FastIntervalSelector(scale=dt_x, marks=[lc3, lc2])\n",
    "\n",
    "hd = HandDraw(lines=lc2)\n",
    "hd2 = HandDraw(lines=lc3)\n",
    "pz = PanZoom(scales={'x': [dt_x], 'y': [lc2_y]})\n",
    "\n",
    "deb = Latex()\n",
    "deb.value = \"hello\""
   ]
  },
  {
   "cell_type": "code",
   "execution_count": null,
   "metadata": {
    "collapsed": false
   },
   "outputs": [],
   "source": [
    "## Call back handler for the interactions\n",
    "def test_callback(name, value):\n",
    "    deb.value = str(value)\n",
    "    \n",
    "multi_sel.on_trait_change(test_callback, name='selected')\n",
    "br_intsel.on_trait_change(test_callback, name='selected')\n",
    "index_sel.on_trait_change(test_callback, name='selected')\n",
    "int_sel.on_trait_change(test_callback, name='selected')"
   ]
  },
  {
   "cell_type": "code",
   "execution_count": null,
   "metadata": {
    "collapsed": false
   },
   "outputs": [],
   "source": [
    "from collections import OrderedDict\n",
    "selection_interacts = ToggleButtons(options=OrderedDict([('HandDraw1', hd), ('HandDraw2', hd2), ('PanZoom', pz), \n",
    "                                                       ('FastIntervalSelector', int_sel), ('IndexSelector', index_sel),\n",
    "                                                       ('BrushIntervalSelector', br_intsel), ('MultiSelector', multi_sel),\n",
    "                                                       ('None', None)]))\n",
    "display(deb)\n",
    "display(VBox([fig, selection_interacts], align_self=\"stretch\"))\n",
    "\n",
    "link((selection_interacts, 'value'), (fig, 'interaction'));"
   ]
  },
  {
   "cell_type": "code",
   "execution_count": null,
   "metadata": {
    "collapsed": false
   },
   "outputs": [],
   "source": [
    "# Set the scales of lc4 to the ones of lc2 and check if panzoom pans the two.\n",
    "lc4.scales = lc2.scales"
   ]
  },
  {
   "cell_type": "code",
   "execution_count": null,
   "metadata": {
    "collapsed": true
   },
   "outputs": [],
   "source": []
  },
  {
   "cell_type": "code",
   "execution_count": null,
   "metadata": {
    "collapsed": true
   },
   "outputs": [],
   "source": []
  },
  {
   "cell_type": "code",
   "execution_count": null,
   "metadata": {
    "collapsed": true
   },
   "outputs": [],
   "source": []
  }
 ],
 "metadata": {
  "kernelspec": {
   "display_name": "Python 2",
   "language": "python",
   "name": "python2"
  },
  "language_info": {
   "codemirror_mode": {
    "name": "ipython",
    "version": 2
   },
   "file_extension": ".py",
   "mimetype": "text/x-python",
   "name": "python",
   "nbconvert_exporter": "python",
   "pygments_lexer": "ipython2",
   "version": "2.7.10"
  }
 },
 "nbformat": 4,
 "nbformat_minor": 0
}
