{
 "cells": [
  {
   "cell_type": "code",
   "execution_count": null,
   "metadata": {
    "collapsed": false
   },
   "outputs": [],
   "source": [
    "from bqplot import *\n",
    "import numpy as np"
   ]
  },
  {
   "cell_type": "markdown",
   "metadata": {},
   "source": [
    "## Basic Pie Chart"
   ]
  },
  {
   "cell_type": "code",
   "execution_count": null,
   "metadata": {
    "collapsed": false
   },
   "outputs": [],
   "source": [
    "data = range(1, 6)\n",
    "pie = Pie(sizes=data, select_slices=True, opacities=[0.2], animate_dur=1000)\n",
    "Figure(marks=[pie])"
   ]
  },
  {
   "cell_type": "code",
   "execution_count": null,
   "metadata": {
    "collapsed": true
   },
   "outputs": [],
   "source": [
    "pie.selected_style = {\"opacity\": \"1\", \"stroke\": \"white\", \"stroke-width\": \"2\"}\n",
    "pie.unselected_style = {\"opacity\": \"0.2\"}"
   ]
  },
  {
   "cell_type": "code",
   "execution_count": null,
   "metadata": {
    "collapsed": false
   },
   "outputs": [],
   "source": [
    "pie.selected = [3]"
   ]
  },
  {
   "cell_type": "code",
   "execution_count": null,
   "metadata": {
    "collapsed": false
   },
   "outputs": [],
   "source": [
    "size = 10\n",
    "normal1 = np.random.randn(size)\n",
    "normal2 = np.random.randn(size)\n",
    "normal3 = np.random.randn(2 * size)\n",
    "pie.sizes = np.abs(normal1)"
   ]
  },
  {
   "cell_type": "code",
   "execution_count": null,
   "metadata": {
    "collapsed": false
   },
   "outputs": [],
   "source": [
    "pie.sort = True"
   ]
  },
  {
   "cell_type": "code",
   "execution_count": null,
   "metadata": {
    "collapsed": false
   },
   "outputs": [],
   "source": [
    "pie.labels = ['{:.2f}'.format(d) for d in pie.sizes]"
   ]
  },
  {
   "cell_type": "markdown",
   "metadata": {},
   "source": [
    "## Updating pie shape and style"
   ]
  },
  {
   "cell_type": "code",
   "execution_count": null,
   "metadata": {
    "collapsed": false
   },
   "outputs": [],
   "source": [
    "pie = Pie(sizes=np.abs(normal1), radius=300, inner_radius=0.05, animate_dur=1000)\n",
    "Figure(marks=[pie])"
   ]
  },
  {
   "cell_type": "code",
   "execution_count": null,
   "metadata": {
    "collapsed": true
   },
   "outputs": [],
   "source": [
    "pie.radius = 250\n",
    "pie.inner_radius = 80"
   ]
  },
  {
   "cell_type": "code",
   "execution_count": null,
   "metadata": {
    "collapsed": false
   },
   "outputs": [],
   "source": [
    "pie.start_angle = -90\n",
    "pie.end_angle = 90\n",
    "pie.y = 0.1\n",
    "pie.radius = 400"
   ]
  },
  {
   "cell_type": "code",
   "execution_count": null,
   "metadata": {
    "collapsed": true
   },
   "outputs": [],
   "source": [
    "pie.stroke = 'black'\n",
    "pie.opacities = [0.9]\n",
    "pie.colors=['gold', 'magenta']"
   ]
  },
  {
   "cell_type": "markdown",
   "metadata": {},
   "source": [
    "## Representing an additional dimension using Color"
   ]
  },
  {
   "cell_type": "code",
   "execution_count": null,
   "metadata": {
    "collapsed": false
   },
   "outputs": [],
   "source": [
    "sc = ColorScale(scheme='Reds')\n",
    "ax = ColorAxis(scale=sc)\n",
    "pie = Pie(sizes=np.abs(normal1), radius=300, \n",
    "          scales={'color': sc}, color=normal2)\n",
    "Figure(marks=[pie], axes=[ax])"
   ]
  },
  {
   "cell_type": "code",
   "execution_count": null,
   "metadata": {
    "collapsed": false
   },
   "outputs": [],
   "source": [
    "import datetime as dt\n",
    "from bqplot.traits import convert_to_date\n",
    "ref_date = dt.datetime(2010, 1, 1)\n",
    "num_items = 10 * np.arange(10)\n",
    "\n",
    "x_data = [ref_date + dt.timedelta(x) for x in num_items]\n",
    "y_data = normal2\n",
    "\n",
    "sc_x = DateScale()\n",
    "sc_y = LinearScale()\n",
    "ax_x = Axis(scale=sc_x)\n",
    "ax_y = Axis(scale=sc_y, orientation='vertical')\n",
    "\n",
    "pies=[]\n",
    "for i in range(10):\n",
    "    pie_data = np.abs(normal3[2 * i:2 * (i + 1)])\n",
    "    pies.append(Pie(sizes=pie_data, x=x_data[i], y=y_data[i], radius=50.,\n",
    "                    scales={\"x\": sc_x, \"y\": sc_y},\n",
    "                    colors = ['red', 'blue']))\n",
    "    \n",
    "line = Lines(x=convert_to_date(x_data), y=y_data, scales={\"x\": sc_x, \"y\": sc_y})"
   ]
  },
  {
   "cell_type": "code",
   "execution_count": null,
   "metadata": {
    "collapsed": false
   },
   "outputs": [],
   "source": [
    "Figure(marks=[line] + pies, axes=[ax_x, ax_y])"
   ]
  },
  {
   "cell_type": "code",
   "execution_count": null,
   "metadata": {
    "collapsed": true
   },
   "outputs": [],
   "source": []
  }
 ],
 "metadata": {
  "kernelspec": {
   "display_name": "Python 2",
   "language": "python",
   "name": "python2"
  },
  "language_info": {
   "codemirror_mode": {
    "name": "ipython",
    "version": 2
   },
   "file_extension": ".py",
   "mimetype": "text/x-python",
   "name": "python",
   "nbconvert_exporter": "python",
   "pygments_lexer": "ipython2",
   "version": "2.7.9"
  }
 },
 "nbformat": 4,
 "nbformat_minor": 0
}
