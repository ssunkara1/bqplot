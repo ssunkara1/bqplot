{
 "cells": [
  {
   "cell_type": "code",
   "execution_count": null,
   "metadata": {
    "collapsed": false
   },
   "outputs": [],
   "source": [
    "from __future__ import print_function\n",
    "from bqplot import pyplot as plt\n",
    "from bqplot import topo_load\n",
    "from bqplot.interacts import panzoom\n",
    "from numpy import *\n",
    "import pandas as pd\n",
    "import datetime as dt"
   ]
  },
  {
   "cell_type": "code",
   "execution_count": null,
   "metadata": {
    "collapsed": false
   },
   "outputs": [],
   "source": [
    "# initializing data to be plotted\n",
    "random.seed(0)\n",
    "size = 100\n",
    "y_data = cumsum(random.randn(size) * 100.0)\n",
    "y_data_2 = cumsum(random.randn(size))\n",
    "y_data_3 = cumsum(random.randn(size) * 100.)\n",
    "\n",
    "x = linspace(0.0, 10.0, size)\n",
    "\n",
    "price_data = pd.DataFrame(cumsum(random.randn(150, 2).dot([[0.5, 0.8], [0.8, 1.0]]), axis=0) + 100,\n",
    "                          columns=['Security 1', 'Security 2'],\n",
    "                          index=pd.date_range(start='01-01-2007', periods=150))\n",
    "\n",
    "symbol = 'Security 1'\n",
    "dates_all = price_data.index.values\n",
    "final_prices = price_data[symbol].values.flatten()"
   ]
  },
  {
   "cell_type": "markdown",
   "metadata": {},
   "source": [
    "## Simple Plots"
   ]
  },
  {
   "cell_type": "markdown",
   "metadata": {},
   "source": [
    "### Line Chart"
   ]
  },
  {
   "cell_type": "code",
   "execution_count": null,
   "metadata": {
    "collapsed": false
   },
   "outputs": [],
   "source": [
    "plt.figure()\n",
    "plt.plot(x, y_data)\n",
    "plt.show()"
   ]
  },
  {
   "cell_type": "markdown",
   "metadata": {},
   "source": [
    "### Scatter Plot"
   ]
  },
  {
   "cell_type": "code",
   "execution_count": null,
   "metadata": {
    "collapsed": false
   },
   "outputs": [],
   "source": [
    "plt.figure(title='Scatter Plot with colors')\n",
    "plt.scatter(y_data_2, y_data_3, color=y_data)\n",
    "plt.show()"
   ]
  },
  {
   "cell_type": "markdown",
   "metadata": {},
   "source": [
    "### Horizontal and Vertical Lines"
   ]
  },
  {
   "cell_type": "code",
   "execution_count": null,
   "metadata": {
    "collapsed": true
   },
   "outputs": [],
   "source": [
    "plt.hline()\n",
    "plt.show()"
   ]
  },
  {
   "cell_type": "code",
   "execution_count": null,
   "metadata": {
    "collapsed": true
   },
   "outputs": [],
   "source": [
    "plt.vline()\n",
    "plt.show()"
   ]
  },
  {
   "cell_type": "markdown",
   "metadata": {},
   "source": [
    "### Histogram"
   ]
  },
  {
   "cell_type": "code",
   "execution_count": null,
   "metadata": {
    "collapsed": false
   },
   "outputs": [],
   "source": [
    "plt.figure()\n",
    "plt.hist(y_data, colors=['OrangeRed'])\n",
    "plt.show()"
   ]
  },
  {
   "cell_type": "markdown",
   "metadata": {},
   "source": [
    "### Bar Chart"
   ]
  },
  {
   "cell_type": "code",
   "execution_count": null,
   "metadata": {
    "collapsed": true
   },
   "outputs": [],
   "source": [
    "plt.figure()\n",
    "bar_x=['A', 'B', 'C', 'D', 'E', 'F', 'G', 'H', 'I', 'J', 'K', 'L', 'M', 'N', 'P', 'Q', 'R', 'S', 'T', 'U']\n",
    "plt.bar(bar_x, y_data_3)\n",
    "plt.show()"
   ]
  },
  {
   "cell_type": "markdown",
   "metadata": {},
   "source": [
    "### Pie Chart"
   ]
  },
  {
   "cell_type": "code",
   "execution_count": null,
   "metadata": {
    "collapsed": false
   },
   "outputs": [],
   "source": [
    "plt.figure()\n",
    "d = abs(y_data_2[:5])\n",
    "plt.pie(d)\n",
    "plt.show()"
   ]
  },
  {
   "cell_type": "markdown",
   "metadata": {},
   "source": [
    "### OHLC"
   ]
  },
  {
   "cell_type": "code",
   "execution_count": null,
   "metadata": {
    "collapsed": false
   },
   "outputs": [],
   "source": [
    "dates = array(['2014-01-02T00:00:00.000000000+0000',\n",
    "       '2014-01-03T00:00:00.000000000+0000',\n",
    "       '2014-01-06T00:00:00.000000000+0000',\n",
    "       '2014-01-07T00:00:00.000000000+0000',\n",
    "       '2014-01-08T00:00:00.000000000+0000',\n",
    "       '2014-01-09T00:00:00.000000000+0000',\n",
    "       '2014-01-10T00:00:00.000000000+0000',\n",
    "       '2014-01-13T00:00:00.000000000+0000',\n",
    "       '2014-01-14T00:00:00.000000000+0000',\n",
    "       '2014-01-15T00:00:00.000000000+0000',\n",
    "       '2014-01-16T00:00:00.000000000+0000',\n",
    "       '2014-01-17T00:00:00.000000000+0000',\n",
    "       '2014-01-21T00:00:00.000000000+0000',\n",
    "       '2014-01-22T00:00:00.000000000+0000',\n",
    "       '2014-01-23T00:00:00.000000000+0000',\n",
    "       '2014-01-24T00:00:00.000000000+0000',\n",
    "       '2014-01-27T00:00:00.000000000+0000',\n",
    "       '2014-01-28T00:00:00.000000000+0000',\n",
    "       '2014-01-29T00:00:00.000000000+0000',\n",
    "       '2014-01-30T00:00:00.000000000+0000'], dtype='datetime64[ns]')\n",
    "\n",
    "\n",
    "prices = array([[ 187.21  ,  187.4   ,  185.2   ,  185.53  ],\n",
    "       [ 185.83  ,  187.35  ,  185.3   ,  186.64  ],\n",
    "       [ 187.15  ,  187.355 ,  185.3   ,  186.    ],\n",
    "       [ 186.39  ,  190.35  ,  186.38  ,  189.71  ],\n",
    "       [ 189.33  ,  189.4175,  187.26  ,  187.97  ],\n",
    "       [ 189.02  ,  189.5   ,  186.55  ,  187.38  ],\n",
    "       [ 188.31  ,  188.57  ,  186.28  ,  187.26  ],\n",
    "       [ 186.26  ,  186.95  ,  183.86  ,  184.16  ],\n",
    "       [ 185.06  ,  186.428 ,  183.8818,  185.92  ],\n",
    "       [ 185.82  ,  188.65  ,  185.49  ,  187.74  ],\n",
    "       [ 187.53  ,  188.99  ,  186.8   ,  188.76  ],\n",
    "       [ 188.04  ,  190.81  ,  187.86  ,  190.09  ],\n",
    "       [ 190.23  ,  190.39  ,  186.79  ,  188.43  ],\n",
    "       [ 181.28  ,  183.5   ,  179.67  ,  182.25  ],\n",
    "       [ 181.43  ,  183.72  ,  180.71  ,  182.73  ],\n",
    "       [ 181.25  ,  182.8141,  179.64  ,  179.64  ],\n",
    "       [ 179.605 ,  179.65  ,  177.66  ,  177.9   ],\n",
    "       [ 178.05  ,  178.45  ,  176.16  ,  176.85  ],\n",
    "       [ 175.98  ,  178.53  ,  175.89  ,  176.4   ],\n",
    "       [ 177.17  ,  177.86  ,  176.36  ,  177.36  ]])\n",
    "\n",
    "plt.figure()\n",
    "plt.ohlc(dates, prices)\n",
    "plt.show()"
   ]
  },
  {
   "cell_type": "markdown",
   "metadata": {},
   "source": [
    "### Map"
   ]
  },
  {
   "cell_type": "code",
   "execution_count": null,
   "metadata": {
    "collapsed": true
   },
   "outputs": [],
   "source": [
    "plt.figure()\n",
    "plt.geo(map_data=topo_load('WorldMapData.json'))\n",
    "plt.show()"
   ]
  },
  {
   "cell_type": "markdown",
   "metadata": {},
   "source": [
    "### Plotting Dates"
   ]
  },
  {
   "cell_type": "code",
   "execution_count": null,
   "metadata": {
    "collapsed": true
   },
   "outputs": [],
   "source": [
    "plt.figure()\n",
    "plt.plot(dates_all, final_prices)\n",
    "plt.show()"
   ]
  },
  {
   "cell_type": "markdown",
   "metadata": {},
   "source": [
    "### Adding grid lines"
   ]
  },
  {
   "cell_type": "code",
   "execution_count": null,
   "metadata": {
    "collapsed": true
   },
   "outputs": [],
   "source": [
    "plt.grids()\n",
    "plt.show()"
   ]
  },
  {
   "cell_type": "markdown",
   "metadata": {},
   "source": [
    "### Editing existing axes properites"
   ]
  },
  {
   "cell_type": "code",
   "execution_count": null,
   "metadata": {
    "collapsed": false
   },
   "outputs": [],
   "source": [
    "## adding grid lines and changing the side of the axis in the figure above\n",
    "plt.axes(options={'x': {'label': 'Dates'}, 'y': {'side': 'right'}})"
   ]
  },
  {
   "cell_type": "markdown",
   "metadata": {},
   "source": [
    "## Advanced Usage"
   ]
  },
  {
   "cell_type": "markdown",
   "metadata": {},
   "source": [
    "### Multiple Marks on the same Figure"
   ]
  },
  {
   "cell_type": "code",
   "execution_count": null,
   "metadata": {
    "collapsed": true
   },
   "outputs": [],
   "source": [
    "plt.figure()\n",
    "plt.plot(x, y_data_3, colors=['orange'])\n",
    "plt.scatter(x, y_data, stroke='black')\n",
    "plt.show()"
   ]
  },
  {
   "cell_type": "markdown",
   "metadata": {},
   "source": [
    "### Using marker strings in Line Chart"
   ]
  },
  {
   "cell_type": "code",
   "execution_count": null,
   "metadata": {
    "collapsed": false
   },
   "outputs": [],
   "source": [
    "mark_x = arange(10)\n",
    "plt.figure(title='Using Marker Strings')\n",
    "plt.plot(mark_x, 3 * mark_x + 5, 'y-.s') # color=yellow, line_style=dash_dotted, marker=square\n",
    "plt.plot(mark_x ** 2, 'm:d') # color=magenta, line_style=None, marker=diamond\n",
    "plt.show()"
   ]
  },
  {
   "cell_type": "markdown",
   "metadata": {
    "collapsed": true
   },
   "source": [
    "### Partially changing the scales"
   ]
  },
  {
   "cell_type": "code",
   "execution_count": null,
   "metadata": {
    "collapsed": false
   },
   "outputs": [],
   "source": [
    "plt.figure()\n",
    "plt.plot(x, y_data)\n",
    "\n",
    "## preserving the x scale and changing the y scale\n",
    "plt.scales(scales={'x': plt.Keep})\n",
    "plt.plot(x, y_data_2, colors=['lightgreen'], axes_options={'y': {'side': 'right', 'color': 'lightgreen'}})\n",
    "plt.show()"
   ]
  },
  {
   "cell_type": "markdown",
   "metadata": {},
   "source": [
    "### Adding a label to the chart"
   ]
  },
  {
   "cell_type": "code",
   "execution_count": null,
   "metadata": {
    "collapsed": true
   },
   "outputs": [],
   "source": [
    "plt.figure()\n",
    "line = plt.plot(dates_all, final_prices)\n",
    "plt.show()"
   ]
  },
  {
   "cell_type": "code",
   "execution_count": null,
   "metadata": {
    "collapsed": false
   },
   "outputs": [],
   "source": [
    "## adds the label to the figure created above\n",
    "plt.label('Pie Day', x=dt.date(2007, 3, 14), y=final_prices.mean(), scales=line.scales,\n",
    "          color='orange')"
   ]
  },
  {
   "cell_type": "markdown",
   "metadata": {},
   "source": [
    "### Changing context figure"
   ]
  },
  {
   "cell_type": "code",
   "execution_count": null,
   "metadata": {
    "collapsed": true
   },
   "outputs": [],
   "source": [
    "plt.figure(1)\n",
    "plt.plot(x,y_data_3)\n",
    "plt.show()"
   ]
  },
  {
   "cell_type": "code",
   "execution_count": null,
   "metadata": {
    "collapsed": true
   },
   "outputs": [],
   "source": [
    "plt.figure(2)\n",
    "plt.plot(x[:20],y_data_3[:20])\n",
    "plt.show()"
   ]
  },
  {
   "cell_type": "markdown",
   "metadata": {},
   "source": [
    "### Re-editing first figure"
   ]
  },
  {
   "cell_type": "code",
   "execution_count": null,
   "metadata": {
    "collapsed": false
   },
   "outputs": [],
   "source": [
    "## adds the new line to the first figure\n",
    "plt.figure(1, title='New title')\n",
    "plt.plot(x,y_data, colors=['orange'])"
   ]
  },
  {
   "cell_type": "markdown",
   "metadata": {},
   "source": [
    "### Viewing the properties of the figure"
   ]
  },
  {
   "cell_type": "code",
   "execution_count": null,
   "metadata": {
    "collapsed": false
   },
   "outputs": [],
   "source": [
    "marks = plt.current_figure().marks\n",
    "marks[0].get_state()"
   ]
  },
  {
   "cell_type": "markdown",
   "metadata": {},
   "source": [
    "### Showing a second view of the first figure"
   ]
  },
  {
   "cell_type": "code",
   "execution_count": null,
   "metadata": {
    "collapsed": true
   },
   "outputs": [],
   "source": [
    "plt.show()"
   ]
  },
  {
   "cell_type": "markdown",
   "metadata": {},
   "source": [
    "### Clearing the figure"
   ]
  },
  {
   "cell_type": "code",
   "execution_count": null,
   "metadata": {
    "collapsed": true
   },
   "outputs": [],
   "source": [
    "### Clearing the figure above\n",
    "plt.clear()"
   ]
  },
  {
   "cell_type": "markdown",
   "metadata": {},
   "source": [
    "### Deleting a figure and all its views. "
   ]
  },
  {
   "cell_type": "code",
   "execution_count": null,
   "metadata": {
    "collapsed": true
   },
   "outputs": [],
   "source": [
    "plt.show(2)"
   ]
  },
  {
   "cell_type": "code",
   "execution_count": null,
   "metadata": {
    "collapsed": false
   },
   "outputs": [],
   "source": [
    "plt.close(2)"
   ]
  },
  {
   "cell_type": "markdown",
   "metadata": {},
   "source": [
    "## Interactions in Pyplot"
   ]
  },
  {
   "cell_type": "code",
   "execution_count": null,
   "metadata": {
    "collapsed": true
   },
   "outputs": [],
   "source": [
    "def call_back(name, value):\n",
    "    print(value)"
   ]
  },
  {
   "cell_type": "markdown",
   "metadata": {},
   "source": [
    "### Brush Selector"
   ]
  },
  {
   "cell_type": "code",
   "execution_count": null,
   "metadata": {
    "collapsed": false
   },
   "outputs": [],
   "source": [
    "plt.figure()\n",
    "plt.scatter(y_data_2, y_data_3, default_colors=['orange'], stroke='black')\n",
    "\n",
    "## click and drag on the figure to see the selector\n",
    "plt.brush_selector(call_back)\n",
    "plt.show(display_toolbar=False)"
   ]
  },
  {
   "cell_type": "markdown",
   "metadata": {},
   "source": [
    "### Fast Interval Selector"
   ]
  },
  {
   "cell_type": "code",
   "execution_count": null,
   "metadata": {
    "collapsed": false
   },
   "outputs": [],
   "source": [
    "plt.figure()\n",
    "n= 100\n",
    "plt.plot(arange(n), y_data_3)\n",
    "## click on the figure to activate the selector\n",
    "plt.int_selector(call_back)\n",
    "plt.show(display_toolbar=False)"
   ]
  },
  {
   "cell_type": "markdown",
   "metadata": {},
   "source": [
    "### Brush Interval Selector with call back on brushing"
   ]
  },
  {
   "cell_type": "code",
   "execution_count": null,
   "metadata": {
    "collapsed": false
   },
   "outputs": [],
   "source": [
    "# click and drag on chart to make a selection\n",
    "plt.brush_int_selector(call_back, 'brushing')"
   ]
  },
  {
   "cell_type": "code",
   "execution_count": null,
   "metadata": {
    "collapsed": true
   },
   "outputs": [],
   "source": []
  }
 ],
 "metadata": {
  "kernelspec": {
   "display_name": "Python 2",
   "language": "python",
   "name": "python2"
  },
  "language_info": {
   "codemirror_mode": {
    "name": "ipython",
    "version": 2
   },
   "file_extension": ".py",
   "mimetype": "text/x-python",
   "name": "python",
   "nbconvert_exporter": "python",
   "pygments_lexer": "ipython2",
   "version": "2.7.11"
  }
 },
 "nbformat": 4,
 "nbformat_minor": 0
}
