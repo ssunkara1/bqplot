{
 "cells": [
  {
   "cell_type": "code",
   "execution_count": null,
   "metadata": {
    "collapsed": false
   },
   "outputs": [],
   "source": [
    "import numpy as np\n",
    "import pandas as pd\n",
    "from IPython.display import display\n",
    "from bqplot import *"
   ]
  },
  {
   "cell_type": "markdown",
   "metadata": {},
   "source": [
    "## Data"
   ]
  },
  {
   "cell_type": "code",
   "execution_count": null,
   "metadata": {
    "collapsed": false
   },
   "outputs": [],
   "source": [
    "price_data = pd.DataFrame(np.cumsum(np.random.randn(150, 2).dot([[0.5, 0.8], [0.8, 1.0]]), axis=0) + 100,\n",
    "                          columns=['Security 1', 'Security 2'], index=pd.date_range(start='01-01-2007', periods=150))"
   ]
  },
  {
   "cell_type": "markdown",
   "metadata": {},
   "source": [
    "## Basic Line Chart"
   ]
  },
  {
   "cell_type": "code",
   "execution_count": null,
   "metadata": {
    "collapsed": false
   },
   "outputs": [],
   "source": [
    "sc_x = LinearScale()\n",
    "sc_y = LinearScale()\n",
    "\n",
    "line = Lines(x=np.arange(len(price_data['Security 1'].values)), y=price_data['Security 1'].values,\n",
    "             scales={'x': sc_x, 'y': sc_y})\n",
    "ax_x = Axis(scale=sc_x, label='index')\n",
    "ax_y = Axis(scale=sc_y, orientation='vertical', label='Security 1')\n",
    "\n",
    "fig = Figure(marks=[line], axes=[ax_x, ax_y], title='Security 1')\n",
    "display(fig) "
   ]
  },
  {
   "cell_type": "markdown",
   "metadata": {},
   "source": [
    "## Patches"
   ]
  },
  {
   "cell_type": "code",
   "execution_count": null,
   "metadata": {
    "collapsed": false
   },
   "outputs": [],
   "source": [
    "sc_x = LinearScale()\n",
    "sc_y = LinearScale()\n",
    "\n",
    "patch = Lines(x=[[0, 2, 1.2], [0.5, 2.5, 1.7], [4,5,6, 6, 5, 4, 3]], \n",
    "              y=[[0, 0, 1], [0.5, 0.5, -0.5], [1, 1.1, 1.2, 2.3, 2.2, 2.7, 1.0]],\n",
    "              fill=['orange', 'blue', 'red'],\n",
    "              stroke_width=10,\n",
    "              animate_dur=1000,\n",
    "              close_path=True,\n",
    "              scales={'x': sc_x, 'y': sc_y},\n",
    "              display_legend=True)\n",
    "\n",
    "fig = Figure(marks=[patch])\n",
    "display(fig) "
   ]
  },
  {
   "cell_type": "code",
   "execution_count": null,
   "metadata": {
    "collapsed": true
   },
   "outputs": [],
   "source": [
    "patch.opacities = [0.1, 0.2]"
   ]
  },
  {
   "cell_type": "code",
   "execution_count": null,
   "metadata": {
    "collapsed": true
   },
   "outputs": [],
   "source": [
    "patch.x = [[2, 3, 3.2], [0.5, 2.5, 1.7], [4,5,6, 6, 5, 4, 3]]"
   ]
  },
  {
   "cell_type": "code",
   "execution_count": null,
   "metadata": {
    "collapsed": false
   },
   "outputs": [],
   "source": [
    "#patch.fill=['', 'blue']\n",
    "patch.close_path = False"
   ]
  },
  {
   "cell_type": "markdown",
   "metadata": {
    "collapsed": true
   },
   "source": [
    "## Line with dates as X"
   ]
  },
  {
   "cell_type": "code",
   "execution_count": null,
   "metadata": {
    "collapsed": false
   },
   "outputs": [],
   "source": [
    "dt_x = DateScale()\n",
    "sc_y = LinearScale()\n",
    "\n",
    "line = Lines(x=price_data.index.values, y=price_data['Security 1'].values, scales={'x': dt_x, 'y': sc_y})\n",
    "ax_x = Axis(scale=dt_x, label='Date')\n",
    "ax_y = Axis(scale=sc_y, orientation='vertical', label='Security 1')\n",
    "\n",
    "fig = Figure(marks=[line], axes=[ax_x, ax_y])\n",
    "display(fig) "
   ]
  },
  {
   "cell_type": "markdown",
   "metadata": {},
   "source": [
    "## Line with single X and multiple Y"
   ]
  },
  {
   "cell_type": "code",
   "execution_count": null,
   "metadata": {
    "collapsed": false
   },
   "outputs": [],
   "source": [
    "dt_x = DateScale()\n",
    "sc_y = LinearScale()\n",
    "\n",
    "line = Lines(x=price_data.index.values, y=[price_data['Security 1'].values, price_data['Security 2'].values], \n",
    "             scales={'x': dt_x, 'y': sc_y},\n",
    "             labels=['Security 1', 'Security 2'], display_legend=True, colors=['yellow', 'orangered'])\n",
    "ax_x = Axis(scale=dt_x, label='Date')\n",
    "ax_y = Axis(scale=sc_y, orientation='vertical', label='Security 1')\n",
    "\n",
    "fig = Figure(marks=[line], axes=[ax_x, ax_y], legend_location='top-left')\n",
    "display(fig) "
   ]
  },
  {
   "cell_type": "markdown",
   "metadata": {},
   "source": [
    "## Line with multiple X and multiple Y"
   ]
  },
  {
   "cell_type": "code",
   "execution_count": null,
   "metadata": {
    "collapsed": false
   },
   "outputs": [],
   "source": [
    "sc_x = LinearScale()\n",
    "sc_y = LinearScale()\n",
    "\n",
    "data_len = len(price_data['Security 1'].values)\n",
    "line = Lines(x=[np.arange(data_len).tolist(), np.arange(30, data_len).tolist()], \n",
    "             y=[price_data['Security 1'].values, price_data['Security 2'].values], \n",
    "             scales={'x': sc_x, 'y': sc_y},\n",
    "             labels=['Security 1', 'Security 2'], display_legend=True, colors=['yellow', 'orangered'])\n",
    "ax_x = Axis(scale=sc_x, label='index')\n",
    "ax_y = Axis(scale=sc_y, orientation='vertical', label='Security 1')\n",
    "\n",
    "fig = Figure(marks=[line], axes=[ax_x, ax_y], legend_location='top-left')\n",
    "display(fig) "
   ]
  },
  {
   "cell_type": "markdown",
   "metadata": {},
   "source": [
    "## Multiple lines with color representing data"
   ]
  },
  {
   "cell_type": "code",
   "execution_count": null,
   "metadata": {
    "collapsed": false
   },
   "outputs": [],
   "source": [
    "sc_x = LinearScale()\n",
    "sc_y = LinearScale()\n",
    "col_sc = ColorScale()\n",
    "\n",
    "data_len = len(price_data['Security 1'].values)\n",
    "line = Lines(x=[np.arange(data_len).tolist(), np.arange(30, data_len).tolist()], \n",
    "             y=[price_data['Security 1'].values, price_data['Security 2'].values], \n",
    "             scales={'x': sc_x, 'y': sc_y, 'color': col_sc},\n",
    "             labels=['Security 1', 'Security 2'], display_legend=True, colors=['yellow', 'orangered'],\n",
    "             color=[-1.0, 1.0])\n",
    "ax_x = Axis(scale=sc_x, label='index')\n",
    "ax_y = Axis(scale=sc_y, orientation='vertical', label='Security 1')\n",
    "\n",
    "fig = Figure(marks=[line], axes=[ax_x, ax_y], legend_location='top-left')\n",
    "display(fig) "
   ]
  },
  {
   "cell_type": "code",
   "execution_count": null,
   "metadata": {
    "collapsed": false
   },
   "outputs": [],
   "source": [
    "# resetting the color to None\n",
    "line.color = None"
   ]
  },
  {
   "cell_type": "markdown",
   "metadata": {
    "collapsed": true
   },
   "source": [
    "## Styling line chart"
   ]
  },
  {
   "cell_type": "code",
   "execution_count": null,
   "metadata": {
    "collapsed": true
   },
   "outputs": [],
   "source": [
    "# Drawing a dashed line\n",
    "dt_x = LinearScale()\n",
    "sc_y = LinearScale()\n",
    "\n",
    "line = Lines(x=[np.arange(data_len).tolist()], \n",
    "             y=price_data['Security 1'].values, scales={'x': dt_x, 'y': sc_y},\n",
    "             line_style='dashed', apply_clip=False, labels=['Brownian'])\n",
    "ax_x = Axis(scale=dt_x, label='index')\n",
    "ax_y = Axis(scale=sc_y, orientation='vertical', label='SPX Price')\n",
    "\n",
    "fig = Figure(marks=[line], axes=[ax_x, ax_y])\n",
    "display(fig) "
   ]
  },
  {
   "cell_type": "code",
   "execution_count": null,
   "metadata": {
    "collapsed": true
   },
   "outputs": [],
   "source": [
    "# making it dotted\n",
    "line.line_style = 'dotted'"
   ]
  },
  {
   "cell_type": "code",
   "execution_count": null,
   "metadata": {
    "collapsed": true
   },
   "outputs": [],
   "source": [
    "# increasing the width\n",
    "line.line_style = 'solid'\n",
    "line.stroke_width = 3"
   ]
  },
  {
   "cell_type": "code",
   "execution_count": null,
   "metadata": {
    "collapsed": true
   },
   "outputs": [],
   "source": [
    "# Displaying label at the end of the line.\n",
    "# For this to be displayed, apply_clip of the line has to be False\n",
    "line.labels_visibility = 'label'"
   ]
  }
 ],
 "metadata": {
  "kernelspec": {
   "display_name": "Python 2",
   "language": "python",
   "name": "python2"
  },
  "language_info": {
   "codemirror_mode": {
    "name": "ipython",
    "version": 2
   },
   "file_extension": ".py",
   "mimetype": "text/x-python",
   "name": "python",
   "nbconvert_exporter": "python",
   "pygments_lexer": "ipython2",
   "version": "2.7.10"
  }
 },
 "nbformat": 4,
 "nbformat_minor": 0
}
