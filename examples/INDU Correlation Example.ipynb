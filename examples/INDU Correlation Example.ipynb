{
 "cells": [
  {
   "cell_type": "code",
   "execution_count": 6,
   "metadata": {
    "collapsed": true,
    "deletable": true,
    "editable": true
   },
   "outputs": [],
   "source": [
    "import numpy as np\n",
    "import pandas as pd"
   ]
  },
  {
   "cell_type": "code",
   "execution_count": 7,
   "metadata": {
    "collapsed": true,
    "deletable": true,
    "editable": true
   },
   "outputs": [],
   "source": [
    "## get prices of Dow Jones constituents\n",
    "index_prices = pd.read_csv('./indu_const_prices.csv', index_col=0, parse_dates=[0])\n",
    "\n",
    "## get prices of index\n",
    "price_data = pd.read_csv('./indu_prices.csv', index_col=0, parse_dates=[0])\n",
    "\n",
    "returns = price_data.pct_change()[1:]\n",
    "returns_clean = returns.dropna(axis=1)\n",
    "price_data = price_data.loc[returns_clean.index]\n",
    "corr_mat = np.corrcoef(returns_clean.T)"
   ]
  },
  {
   "cell_type": "code",
   "execution_count": 8,
   "metadata": {
    "collapsed": true,
    "deletable": true,
    "editable": true
   },
   "outputs": [],
   "source": [
    "from bqplot import pyplot as plt\n",
    "from bqplot import GridHeatMap, Figure, ColorScale, ColorAxis, HeatMap\n",
    "\n",
    "from ipywidgets import HBox"
   ]
  },
  {
   "cell_type": "code",
   "execution_count": 9,
   "metadata": {
    "collapsed": true,
    "deletable": true,
    "editable": true
   },
   "outputs": [],
   "source": [
    "def event_handler(name, value):\n",
    "    sel = price_line.selected\n",
    "    if sel is None or len(sel) < 2:\n",
    "        _corr = np.corrcoef(returns_clean).T\n",
    "    else:\n",
    "        _corr = np.corrcoef(returns_clean.iloc[sel[0]:sel[-1], :]).T\n",
    "    corr_mat.color = _corr"
   ]
  },
  {
   "cell_type": "code",
   "execution_count": 11,
   "metadata": {
    "collapsed": false,
    "deletable": true,
    "editable": true
   },
   "outputs": [
    {
     "data": {
      "application/vnd.jupyter.widget-view+json": {
       "model_id": "5962201ca5174bd98678284975e837b2"
      }
     },
     "metadata": {},
     "output_type": "display_data"
    }
   ],
   "source": [
    "sc_col = ColorScale(scheme='Reds', min=0.0, max=1.0)\n",
    "ax_col = ColorAxis(scale=sc_col, label='Correlation')\n",
    "\n",
    "corr_mat = HeatMap(color=np.corrcoef(returns_clean.T),\n",
    "                       scales={'color': sc_col})\n",
    "corr_fig = Figure(marks=[corr_mat], axes=[ax_col], title='DOW Jones Correlation Matrix')\n",
    "\n",
    "plt.figure(title='DOW Jones IA Price Series')\n",
    "price_line = plt.plot(index_prices.index.values, index_prices.values)\n",
    "brush = plt.int_selector(event_handler)\n",
    "price_fig = plt.current_figure()\n",
    "plt.axes()['x'].tick_format = '%b-%Y'\n",
    "plt.axes()['x'].num_ticks = 5\n",
    "\n",
    "HBox([price_fig, corr_fig])"
   ]
  },
  {
   "cell_type": "code",
   "execution_count": null,
   "metadata": {
    "collapsed": true
   },
   "outputs": [],
   "source": []
  }
 ],
 "metadata": {
  "kernelspec": {
   "display_name": "Python [default]",
   "language": "python",
   "name": "python3"
  },
  "language_info": {
   "codemirror_mode": {
    "name": "ipython",
    "version": 3
   },
   "file_extension": ".py",
   "mimetype": "text/x-python",
   "name": "python",
   "nbconvert_exporter": "python",
   "pygments_lexer": "ipython3",
   "version": "3.5.2"
  },
  "widgets": {
   "state": {
    "4fa0a28affe149baa449513256dd88be": {
     "views": [
      {
       "cell_index": 6
      }
     ]
    }
   },
   "version": "1.2.0"
  }
 },
 "nbformat": 4,
 "nbformat_minor": 1
}
