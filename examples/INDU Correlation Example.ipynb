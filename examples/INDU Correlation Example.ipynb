{
 "cells": [
  {
   "cell_type": "code",
   "execution_count": 1,
   "metadata": {
    "collapsed": true,
    "deletable": true,
    "editable": true
   },
   "outputs": [],
   "source": [
    "import numpy as np\n",
    "import pandas as pd\n",
    "import bqapi as bq\n",
    "sess= bq.Session()\n",
    "\n",
    "import pyrefdata as pr"
   ]
  },
  {
   "cell_type": "code",
   "execution_count": 2,
   "metadata": {
    "collapsed": false,
    "deletable": true,
    "editable": true
   },
   "outputs": [],
   "source": [
    "## get prices of constituents\n",
    "price_data = pr.get_historical_data(sess, 'index:indu', 'px_last', '01-01-2014', '12-13-2016').unstack().T.loc['px_last']"
   ]
  },
  {
   "cell_type": "code",
   "execution_count": 3,
   "metadata": {
    "collapsed": true,
    "deletable": true,
    "editable": true
   },
   "outputs": [],
   "source": [
    "## get prices of index\n",
    "index_prices = pr.get_historical_data(sess, 'indu index', 'px_last', '01-01-2014', '12-13-2016').unstack().T.loc['px_last']"
   ]
  },
  {
   "cell_type": "code",
   "execution_count": 4,
   "metadata": {
    "collapsed": true,
    "deletable": true,
    "editable": true
   },
   "outputs": [],
   "source": [
    "returns = price_data.pct_change()[1:]\n",
    "returns_clean = returns.dropna(axis=1)\n",
    "\n",
    "corr_mat = np.corrcoef(returns_clean.T)"
   ]
  },
  {
   "cell_type": "code",
   "execution_count": 5,
   "metadata": {
    "collapsed": false,
    "deletable": true,
    "editable": true
   },
   "outputs": [],
   "source": [
    "from bqplot import pyplot as plt\n",
    "from bqplot import GridHeatMap, Figure, ColorScale, ColorAxis\n",
    "\n",
    "from ipywidgets import HBox"
   ]
  },
  {
   "cell_type": "code",
   "execution_count": 6,
   "metadata": {
    "collapsed": true,
    "deletable": true,
    "editable": true
   },
   "outputs": [],
   "source": [
    "def event_handler(name, value):\n",
    "    if brush.selected is None or len(brush.selected) == 0:\n",
    "        _corr = np.corrcoef(returns_clean).T\n",
    "    else:\n",
    "        sel = [pd.to_datetime(s) for s in brush.selected]\n",
    "        _corr = np.corrcoef(returns_clean.loc[sel[0]:sel[1], :]).T\n",
    "    corr_mat.color = _corr"
   ]
  },
  {
   "cell_type": "code",
   "execution_count": 7,
   "metadata": {
    "collapsed": false,
    "deletable": true,
    "editable": true
   },
   "outputs": [
    {
     "data": {
      "application/vnd.jupyter.widget-view+json": {
       "model_id": "bcb6a958a2b84269b808ffadedf1a7e9"
      }
     },
     "metadata": {},
     "output_type": "display_data"
    }
   ],
   "source": [
    "sc_col = ColorScale(scheme='Reds', min=0.0, max=1.0)\n",
    "ax_col = ColorAxis(scale=sc_col, label='Correlation')\n",
    "\n",
    "corr_mat = GridHeatMap(color=np.corrcoef(returns_clean.iloc[:, 1:].T),\n",
    "                       scales={'color': sc_col})\n",
    "corr_fig = Figure(marks=[corr_mat], axes=[ax_col], title='DOW Jones Correlation Matrix')\n",
    "\n",
    "plt.figure(title='DOW Jones IA Price Series')\n",
    "price_line = plt.plot(index_prices.index.values, index_prices.values)\n",
    "brush = plt.int_selector(event_handler)\n",
    "price_fig = plt.current_figure()\n",
    "\n",
    "HBox([price_fig, corr_fig])"
   ]
  },
  {
   "cell_type": "code",
   "execution_count": 8,
   "metadata": {
    "collapsed": false,
    "deletable": true,
    "editable": true
   },
   "outputs": [
    {
     "data": {
      "text/plain": [
       "array([[ 1.        ,  0.00134909, -0.13378207, ..., -0.19492845,\n",
       "         0.39206648, -0.18580654],\n",
       "       [ 0.00134909,  1.        , -0.06007245, ...,  0.16691401,\n",
       "        -0.10203542, -0.20367494],\n",
       "       [-0.13378207, -0.06007245,  1.        , ..., -0.17991704,\n",
       "        -0.09583758, -0.38208258],\n",
       "       ..., \n",
       "       [-0.19492845,  0.16691401, -0.17991704, ...,  1.        ,\n",
       "        -0.08393485,  0.0021062 ],\n",
       "       [ 0.39206648, -0.10203542, -0.09583758, ..., -0.08393485,\n",
       "         1.        , -0.04516078],\n",
       "       [-0.18580654, -0.20367494, -0.38208258, ...,  0.0021062 ,\n",
       "        -0.04516078,  1.        ]])"
      ]
     },
     "execution_count": 8,
     "metadata": {},
     "output_type": "execute_result"
    }
   ],
   "source": [
    "corr_mat.color"
   ]
  },
  {
   "cell_type": "code",
   "execution_count": 9,
   "metadata": {
    "collapsed": false
   },
   "outputs": [
    {
     "data": {
      "text/plain": [
       "array([[ 1.        , -0.0693465 ,  0.08457293, ...,  0.06864262,\n",
       "        -0.23728171,  0.24414068],\n",
       "       [-0.0693465 ,  1.        ,  0.15926824, ...,  0.25789105,\n",
       "         0.02631703,  0.24682541],\n",
       "       [ 0.08457293,  0.15926824,  1.        , ...,  0.05202172,\n",
       "         0.16257918,  0.30441038],\n",
       "       ..., \n",
       "       [ 0.06864262,  0.25789105,  0.05202172, ...,  1.        ,\n",
       "        -0.02639458,  0.02637076],\n",
       "       [-0.23728171,  0.02631703,  0.16257918, ..., -0.02639458,\n",
       "         1.        , -0.05771776],\n",
       "       [ 0.24414068,  0.24682541,  0.30441038, ...,  0.02637076,\n",
       "        -0.05771776,  1.        ]])"
      ]
     },
     "execution_count": 9,
     "metadata": {},
     "output_type": "execute_result"
    }
   ],
   "source": [
    "corr_mat.color"
   ]
  }
 ],
 "metadata": {
  "kernelspec": {
   "display_name": "Python 3 (sandboxed)",
   "language": "python",
   "name": "python3"
  },
  "language_info": {
   "codemirror_mode": {
    "name": "ipython",
    "version": 3
   },
   "file_extension": ".py",
   "mimetype": "text/x-python",
   "name": "python",
   "nbconvert_exporter": "python",
   "pygments_lexer": "ipython3",
   "version": "3.5.2"
  },
  "widgets": {
   "state": {
    "4fa0a28affe149baa449513256dd88be": {
     "views": [
      {
       "cell_index": 6
      }
     ]
    }
   },
   "version": "1.2.0"
  }
 },
 "nbformat": 4,
 "nbformat_minor": 0
}
