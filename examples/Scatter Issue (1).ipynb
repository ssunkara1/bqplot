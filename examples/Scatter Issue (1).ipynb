{
 "cells": [
  {
   "cell_type": "markdown",
   "metadata": {
    "deletable": true,
    "editable": true
   },
   "source": [
    "# Trouble controlling `Scatter.selected`"
   ]
  },
  {
   "cell_type": "markdown",
   "metadata": {
    "deletable": true,
    "editable": true
   },
   "source": [
    "---\n",
    "## Normal usage, works fine\n",
    "\n",
    "Clicking a node adds it to the selected list"
   ]
  },
  {
   "cell_type": "code",
   "execution_count": 11,
   "metadata": {
    "collapsed": true,
    "deletable": true,
    "editable": true
   },
   "outputs": [],
   "source": [
    "import bqplot as bq"
   ]
  },
  {
   "cell_type": "code",
   "execution_count": 12,
   "metadata": {
    "collapsed": true,
    "deletable": true,
    "editable": true
   },
   "outputs": [],
   "source": [
    "scales = {\n",
    "    'x': bq.LinearScale(min=0, max=10),\n",
    "    'y': bq.LinearScale(min=0, max=10),\n",
    "}\n",
    "\n",
    "x_vals = [2,5,8]\n",
    "y_vals = [2,8,2]"
   ]
  },
  {
   "cell_type": "code",
   "execution_count": 13,
   "metadata": {
    "collapsed": true,
    "deletable": true,
    "editable": true
   },
   "outputs": [],
   "source": [
    "scatter = bq.Scatter(\n",
    "    x=x_vals, y=y_vals,\n",
    "    scales=scales,\n",
    "    default_size=180,\n",
    "    interactions={'click': 'select'},\n",
    "    selected_style={'opacity': 1.0, 'fill': 'DarkOrange', 'stroke': 'Red'},\n",
    "    unselected_style={'opacity': 0.5})"
   ]
  },
  {
   "cell_type": "code",
   "execution_count": 14,
   "metadata": {
    "collapsed": false,
    "deletable": true,
    "editable": true
   },
   "outputs": [
    {
     "data": {
      "application/vnd.jupyter.widget-view+json": {
       "model_id": "b6b0e56d9b814291bc41b13b5fa9f872",
       "version_major": 2,
       "version_minor": 0
      },
      "text/plain": [
       "A Jupyter Widget"
      ]
     },
     "metadata": {},
     "output_type": "display_data"
    }
   ],
   "source": [
    "# Selecting multiple with ctrl + click\n",
    "bq.Figure(marks=[scatter])"
   ]
  },
  {
   "cell_type": "code",
   "execution_count": 15,
   "metadata": {
    "collapsed": false,
    "deletable": true,
    "editable": true
   },
   "outputs": [
    {
     "data": {
      "text/plain": [
       "[]"
      ]
     },
     "execution_count": 15,
     "metadata": {},
     "output_type": "execute_result"
    }
   ],
   "source": [
    "scatter.selected"
   ]
  },
  {
   "cell_type": "markdown",
   "metadata": {
    "deletable": true,
    "editable": true
   },
   "source": [
    "---\n",
    "## My weird usage\n",
    "\n",
    "I was tyring to implement MVC pattern, similar to this, where clicking a node would add it to the model's list of selected nodes, and all selected nodes would be highlighted. Programatically changing `selected` property causes problems."
   ]
  },
  {
   "cell_type": "code",
   "execution_count": 16,
   "metadata": {
    "collapsed": true,
    "deletable": true,
    "editable": true
   },
   "outputs": [],
   "source": [
    "import bqplot as bq\n",
    "import traitlets as t\n",
    "import traittypes as tt\n",
    "import ipywidgets as ipyw"
   ]
  },
  {
   "cell_type": "code",
   "execution_count": 17,
   "metadata": {
    "collapsed": true,
    "deletable": true,
    "editable": true
   },
   "outputs": [],
   "source": [
    "class ScatterModel(t.HasTraits):\n",
    "    sel_list = t.List(trait=t.Int(), default_value=[])\n",
    "    \n",
    "    def __init__(self, *args, **kwargs):\n",
    "        super(ScatterModel, self).__init__(*args, **kwargs)"
   ]
  },
  {
   "cell_type": "code",
   "execution_count": 18,
   "metadata": {
    "collapsed": true,
    "deletable": true,
    "editable": true
   },
   "outputs": [],
   "source": [
    "class ScatterView(ipyw.VBox):\n",
    "    \n",
    "    def __init__(self, *args, **kwargs):\n",
    "        super(ScatterView, self).__init__(*args, **kwargs)\n",
    "        \n",
    "        # Set up Scatter\n",
    "        self.model = ScatterModel()\n",
    "        scales = {\n",
    "            'x': bq.LinearScale(min=0, max=10),\n",
    "            'y': bq.LinearScale(min=0, max=10),\n",
    "        }\n",
    "        x_vals = [2,5,8]\n",
    "        y_vals = [2,8,2]\n",
    "        self.scatter = bq.Scatter(\n",
    "            x=x_vals, y=y_vals,\n",
    "            scales=scales,\n",
    "            default_size=180,\n",
    "            interactions={'click': 'select'},\n",
    "            selected_style={'opacity': 1.0, 'fill': 'DarkOrange', 'stroke': 'Red'},\n",
    "            unselected_style={'opacity': 0.5}\n",
    "        )\n",
    "        \n",
    "        # Add it to view\n",
    "        fig = bq.Figure(marks=[self.scatter])\n",
    "        self.children = [fig]\n",
    "        \n",
    "        # Sync up model and view\n",
    "        self.scatter.on_element_click(self.callback_click)\n",
    "        t.dlink((self.model, 'sel_list'), (self.scatter, 'selected'))\n",
    "        \n",
    "    def callback_click(self, scatter, change):\n",
    "        \"\"\"When an element is clicked, add its index to model.sel_list\"\"\"\n",
    "        \n",
    "        idx = change['data']['index']\n",
    "        \n",
    "        tmp = self.model.sel_list[:]\n",
    "        tmp +=[idx]\n",
    "        self.model.sel_list = tmp"
   ]
  },
  {
   "cell_type": "code",
   "execution_count": 19,
   "metadata": {
    "collapsed": true,
    "deletable": true,
    "editable": true
   },
   "outputs": [],
   "source": [
    "view = ScatterView()"
   ]
  },
  {
   "cell_type": "code",
   "execution_count": 20,
   "metadata": {
    "collapsed": false,
    "deletable": true,
    "editable": true,
    "scrolled": false
   },
   "outputs": [
    {
     "data": {
      "application/vnd.jupyter.widget-view+json": {
       "model_id": "368b3a4bc8d348e8afcc1b5fa8591221",
       "version_major": 2,
       "version_minor": 0
      },
      "text/plain": [
       "A Jupyter Widget"
      ]
     },
     "metadata": {},
     "output_type": "display_data"
    }
   ],
   "source": [
    "# Selecting mutliple with normal click\n",
    "view"
   ]
  },
  {
   "cell_type": "code",
   "execution_count": 23,
   "metadata": {
    "collapsed": false,
    "deletable": true,
    "editable": true
   },
   "outputs": [
    {
     "data": {
      "text/plain": [
       "[1, 0]"
      ]
     },
     "execution_count": 23,
     "metadata": {},
     "output_type": "execute_result"
    }
   ],
   "source": [
    "view.model.sel_list"
   ]
  },
  {
   "cell_type": "code",
   "execution_count": 25,
   "metadata": {
    "collapsed": false,
    "deletable": true,
    "editable": true
   },
   "outputs": [
    {
     "data": {
      "text/plain": [
       "[0]"
      ]
     },
     "execution_count": 25,
     "metadata": {},
     "output_type": "execute_result"
    }
   ],
   "source": [
    "view.scatter.selected"
   ]
  },
  {
   "cell_type": "markdown",
   "metadata": {
    "deletable": true,
    "editable": true
   },
   "source": [
    "This is a very partial implementation, but you can see the basic issue:\n",
    "\n",
    "> Clicking a node adds it to the model (`model.sel_list`), and that *appears* to sync up with `scatter.selected`, as all the clicked nodes are highlighted. However, the `scatter.selected` property does not actually change, creating some problems down the road."
   ]
  },
  {
   "cell_type": "markdown",
   "metadata": {
    "deletable": true,
    "editable": true
   },
   "source": [
    "---\n",
    "## Solution\n",
    "\n",
    "Simply removing the line that sets `interactions={'click': 'select'}`solved the issue, allowing me to control the selected nodes programatically, based on the model, without weird side effects."
   ]
  },
  {
   "cell_type": "code",
   "execution_count": 13,
   "metadata": {
    "collapsed": true,
    "deletable": true,
    "editable": true
   },
   "outputs": [],
   "source": [
    "class ScatterView2(ipyw.VBox):\n",
    "    \n",
    "    def __init__(self, *args, **kwargs):\n",
    "        super(ScatterView2, self).__init__(*args, **kwargs)\n",
    "        \n",
    "        self.model = ScatterModel()\n",
    "        \n",
    "        scales = {\n",
    "            'x': bq.LinearScale(min=0, max=10),\n",
    "            'y': bq.LinearScale(min=0, max=10),\n",
    "        }\n",
    "\n",
    "        x_vals = [2,5,8]\n",
    "        y_vals = [2,8,2]\n",
    "        \n",
    "        self.scatter = bq.Scatter(\n",
    "            x=x_vals, y=y_vals,\n",
    "            scales=scales,\n",
    "            default_size=180,\n",
    "#             interactions={'click': 'select'},\n",
    "            selected_style={'opacity': 1.0, 'fill': 'DarkOrange', 'stroke': 'Red'},\n",
    "            unselected_style={'opacity': 0.5}\n",
    "        )\n",
    "        \n",
    "        fig = bq.Figure(marks=[self.scatter])\n",
    "        self.children = [fig]\n",
    "        \n",
    "        # Sync up model and view\n",
    "        self.scatter.on_element_click(self.callback_click)\n",
    "        t.dlink((self.model, 'sel_list'), (self.scatter, 'selected'))\n",
    "        \n",
    "    def callback_click(self, scatter, change):\n",
    "        \n",
    "        idx = change['data']['index']\n",
    "        \n",
    "        tmp = self.model.sel_list[:]\n",
    "        tmp +=[idx]\n",
    "        self.model.sel_list = tmp"
   ]
  },
  {
   "cell_type": "code",
   "execution_count": 14,
   "metadata": {
    "collapsed": true,
    "deletable": true,
    "editable": true
   },
   "outputs": [],
   "source": [
    "view2 = ScatterView2()"
   ]
  },
  {
   "cell_type": "code",
   "execution_count": 15,
   "metadata": {
    "collapsed": false,
    "deletable": true,
    "editable": true
   },
   "outputs": [
    {
     "data": {
      "application/vnd.jupyter.widget-view+json": {
       "model_id": "4d782948abbb4c42970f2cb2a7faaf2c",
       "version_major": 2,
       "version_minor": 0
      },
      "text/plain": [
       "A Jupyter Widget"
      ]
     },
     "metadata": {},
     "output_type": "display_data"
    }
   ],
   "source": [
    "# Selecting multiple with regular click\n",
    "view2"
   ]
  },
  {
   "cell_type": "code",
   "execution_count": 17,
   "metadata": {
    "collapsed": false,
    "deletable": true,
    "editable": true
   },
   "outputs": [
    {
     "data": {
      "text/plain": [
       "[0, 1]"
      ]
     },
     "execution_count": 17,
     "metadata": {},
     "output_type": "execute_result"
    }
   ],
   "source": [
    "view2.model.sel_list"
   ]
  },
  {
   "cell_type": "code",
   "execution_count": 18,
   "metadata": {
    "collapsed": false,
    "deletable": true,
    "editable": true
   },
   "outputs": [
    {
     "data": {
      "text/plain": [
       "[0, 1]"
      ]
     },
     "execution_count": 18,
     "metadata": {},
     "output_type": "execute_result"
    }
   ],
   "source": [
    "view2.scatter.selected"
   ]
  },
  {
   "cell_type": "code",
   "execution_count": null,
   "metadata": {
    "collapsed": true,
    "deletable": true,
    "editable": true
   },
   "outputs": [],
   "source": []
  }
 ],
 "metadata": {
  "kernelspec": {
   "display_name": "Python [default]",
   "language": "python",
   "name": "python3"
  },
  "language_info": {
   "codemirror_mode": {
    "name": "ipython",
    "version": 3
   },
   "file_extension": ".py",
   "mimetype": "text/x-python",
   "name": "python",
   "nbconvert_exporter": "python",
   "pygments_lexer": "ipython3",
   "version": "3.5.4"
  },
  "widgets": {
   "application/vnd.jupyter.widget-state+json": {
    "state": {
     "00c113635a20451194912f6877282753": {
      "model_module": "bqplot",
      "model_module_version": "^0.3.0-alpha.6",
      "model_name": "LinearScaleModel",
      "state": {
       "_model_module_version": "^0.3.0-alpha.6",
       "_view_module_version": "^0.3.0-alpha.6",
       "allow_padding": false,
       "max": 1,
       "min": 0,
       "stabilized": false
      }
     },
     "0355748a71324dd4adf5cb0294c26944": {
      "model_module": "bqplot",
      "model_module_version": "^0.3.0-alpha.6",
      "model_name": "LinearScaleModel",
      "state": {
       "_model_module_version": "^0.3.0-alpha.6",
       "_view_module_version": "^0.3.0-alpha.6",
       "max": 10,
       "min": 0,
       "stabilized": false
      }
     },
     "0aad2e1e77994c6ca6a8af775536c8d3": {
      "model_module": "@jupyter-widgets/base",
      "model_module_version": "1.0.0",
      "model_name": "LayoutModel",
      "state": {
       "min_width": "125px"
      }
     },
     "0c27637440df4779a4d007844ce93e65": {
      "model_module": "bqplot",
      "model_module_version": "^0.3.0-alpha.6",
      "model_name": "FigureModel",
      "state": {
       "_dom_classes": [],
       "_model_module_version": "^0.3.0-alpha.6",
       "_view_module_version": "^0.3.0-alpha.6",
       "layout": "IPY_MODEL_0aad2e1e77994c6ca6a8af775536c8d3",
       "marks": [
        "IPY_MODEL_5203179762204f3b9ba4f32e4e0f3034"
       ],
       "max_aspect_ratio": 6,
       "scale_x": "IPY_MODEL_3dc5e5b36194420a99c6eb3311afff6b",
       "scale_y": "IPY_MODEL_148a5381d686481ebf08ae74702a5f0d"
      }
     },
     "0edc5bb6f5a64f8caf2f6b73beba8ec4": {
      "model_module": "bqplot",
      "model_module_version": "^0.3.0-alpha.6",
      "model_name": "LinearScaleModel",
      "state": {
       "_model_module_version": "^0.3.0-alpha.6",
       "_view_module_version": "^0.3.0-alpha.6",
       "max": 10,
       "min": 0,
       "stabilized": false
      }
     },
     "148a5381d686481ebf08ae74702a5f0d": {
      "model_module": "bqplot",
      "model_module_version": "^0.3.0-alpha.6",
      "model_name": "LinearScaleModel",
      "state": {
       "_model_module_version": "^0.3.0-alpha.6",
       "_view_module_version": "^0.3.0-alpha.6",
       "allow_padding": false,
       "max": 1,
       "min": 0,
       "stabilized": false
      }
     },
     "1dd6af32fbfd44a88384c76b5fab1b76": {
      "model_module": "@jupyter-widgets/base",
      "model_module_version": "1.0.0",
      "model_name": "LayoutModel",
      "state": {}
     },
     "29c8b7b84b0c4a0098ba8558edcc3dd6": {
      "model_module": "bqplot",
      "model_module_version": "^0.3.0-alpha.6",
      "model_name": "ScatterModel",
      "state": {
       "_model_module": "bqplot",
       "_model_module_version": "^0.3.0-alpha.6",
       "_view_count": null,
       "_view_module": "bqplot",
       "_view_module_version": "^0.3.0-alpha.6",
       "apply_clip": true,
       "color": {
        "type": null,
        "values": null
       },
       "colors": [
        "DeepSkyBlue"
       ],
       "default_size": 180,
       "display_legend": false,
       "enable_hover": true,
       "hovered_style": {},
       "interactions": {
        "hover": "tooltip"
       },
       "labels": [],
       "names": {
        "type": null,
        "values": null
       },
       "opacity": {
        "type": null,
        "values": null
       },
       "preserve_domain": {},
       "rotation": {
        "type": null,
        "values": null
       },
       "scales": {
        "x": "IPY_MODEL_79bcd3367a4f4a06a4d9af9fd313c933",
        "y": "IPY_MODEL_a93d141bd37e4deba07a9a0b66aba1f7"
       },
       "scales_metadata": {
        "color": {
         "dimension": "color"
        },
        "opacity": {
         "dimension": "opacity"
        },
        "size": {
         "dimension": "size"
        },
        "x": {
         "dimension": "x",
         "orientation": "horizontal"
        },
        "y": {
         "dimension": "y",
         "orientation": "vertical"
        }
       },
       "selected": [
        0,
        1
       ],
       "selected_style": {
        "fill": "DarkOrange",
        "opacity": 1,
        "stroke": "Red"
       },
       "size": {
        "type": null,
        "values": null
       },
       "skew": {
        "type": null,
        "values": null
       },
       "tooltip": null,
       "tooltip_location": "mouse",
       "tooltip_style": {
        "opacity": 0.9
       },
       "unhovered_style": {},
       "unselected_style": {
        "opacity": 0.5
       },
       "visible": true,
       "x": {
        "type": "float",
        "values": [
         2,
         5,
         8
        ]
       },
       "y": {
        "type": "float",
        "values": [
         2,
         8,
         2
        ]
       }
      }
     },
     "2a735d5903634adaa9a2376034bd56ad": {
      "model_module": "bqplot",
      "model_module_version": "^0.3.0-alpha.6",
      "model_name": "FigureModel",
      "state": {
       "_dom_classes": [],
       "_model_module_version": "^0.3.0-alpha.6",
       "_view_module_version": "^0.3.0-alpha.6",
       "layout": "IPY_MODEL_54017e94ba1f40c688445573e8e28d41",
       "marks": [
        "IPY_MODEL_29c8b7b84b0c4a0098ba8558edcc3dd6"
       ],
       "max_aspect_ratio": 6,
       "scale_x": "IPY_MODEL_ddaeb34b6bd4473f9edaed728206f523",
       "scale_y": "IPY_MODEL_5c86652407a7453094de9cef1bcfb6dc"
      }
     },
     "3dc5e5b36194420a99c6eb3311afff6b": {
      "model_module": "bqplot",
      "model_module_version": "^0.3.0-alpha.6",
      "model_name": "LinearScaleModel",
      "state": {
       "_model_module_version": "^0.3.0-alpha.6",
       "_view_module_version": "^0.3.0-alpha.6",
       "allow_padding": false,
       "max": 1,
       "min": 0,
       "stabilized": false
      }
     },
     "41a3ee489d4f425b913faae07c7fc0d5": {
      "model_module": "bqplot",
      "model_module_version": "^0.3.0-alpha.6",
      "model_name": "LinearScaleModel",
      "state": {
       "_model_module_version": "^0.3.0-alpha.6",
       "_view_module_version": "^0.3.0-alpha.6",
       "max": 10,
       "min": 0,
       "stabilized": false
      }
     },
     "4d782948abbb4c42970f2cb2a7faaf2c": {
      "model_module": "@jupyter-widgets/controls",
      "model_module_version": "1.0.0",
      "model_name": "VBoxModel",
      "state": {
       "children": [
        "IPY_MODEL_2a735d5903634adaa9a2376034bd56ad"
       ],
       "layout": "IPY_MODEL_1dd6af32fbfd44a88384c76b5fab1b76"
      }
     },
     "5203179762204f3b9ba4f32e4e0f3034": {
      "model_module": "bqplot",
      "model_module_version": "^0.3.0-alpha.6",
      "model_name": "ScatterModel",
      "state": {
       "_model_module": "bqplot",
       "_model_module_version": "^0.3.0-alpha.6",
       "_view_count": null,
       "_view_module": "bqplot",
       "_view_module_version": "^0.3.0-alpha.6",
       "apply_clip": true,
       "color": {
        "type": null,
        "values": null
       },
       "colors": [
        "DeepSkyBlue"
       ],
       "default_size": 180,
       "display_legend": false,
       "enable_hover": true,
       "hovered_style": {},
       "interactions": {
        "click": "select"
       },
       "labels": [],
       "names": {
        "type": null,
        "values": null
       },
       "opacity": {
        "type": null,
        "values": null
       },
       "preserve_domain": {},
       "rotation": {
        "type": null,
        "values": null
       },
       "scales": {
        "x": "IPY_MODEL_41a3ee489d4f425b913faae07c7fc0d5",
        "y": "IPY_MODEL_a1d57eebb9754c86a2fa86320d31da47"
       },
       "scales_metadata": {
        "color": {
         "dimension": "color"
        },
        "opacity": {
         "dimension": "opacity"
        },
        "size": {
         "dimension": "size"
        },
        "x": {
         "dimension": "x",
         "orientation": "horizontal"
        },
        "y": {
         "dimension": "y",
         "orientation": "vertical"
        }
       },
       "selected": [
        0,
        1
       ],
       "selected_style": {
        "fill": "DarkOrange",
        "opacity": 1,
        "stroke": "Red"
       },
       "size": {
        "type": null,
        "values": null
       },
       "skew": {
        "type": null,
        "values": null
       },
       "tooltip": null,
       "tooltip_location": "mouse",
       "tooltip_style": {
        "opacity": 0.9
       },
       "unhovered_style": {},
       "unselected_style": {
        "opacity": 0.5
       },
       "visible": true,
       "x": {
        "type": "float",
        "values": [
         2,
         5,
         8
        ]
       },
       "y": {
        "type": "float",
        "values": [
         2,
         8,
         2
        ]
       }
      }
     },
     "5388393a2663492a9c08276df5a0f3ed": {
      "model_module": "@jupyter-widgets/base",
      "model_module_version": "1.0.0",
      "model_name": "LayoutModel",
      "state": {
       "min_width": "125px"
      }
     },
     "54017e94ba1f40c688445573e8e28d41": {
      "model_module": "@jupyter-widgets/base",
      "model_module_version": "1.0.0",
      "model_name": "LayoutModel",
      "state": {
       "min_width": "125px"
      }
     },
     "5c86652407a7453094de9cef1bcfb6dc": {
      "model_module": "bqplot",
      "model_module_version": "^0.3.0-alpha.6",
      "model_name": "LinearScaleModel",
      "state": {
       "_model_module_version": "^0.3.0-alpha.6",
       "_view_module_version": "^0.3.0-alpha.6",
       "allow_padding": false,
       "max": 1,
       "min": 0,
       "stabilized": false
      }
     },
     "67250ea81a014b3a87cc9e6cd322fd58": {
      "model_module": "@jupyter-widgets/base",
      "model_module_version": "1.0.0",
      "model_name": "LayoutModel",
      "state": {}
     },
     "79bcd3367a4f4a06a4d9af9fd313c933": {
      "model_module": "bqplot",
      "model_module_version": "^0.3.0-alpha.6",
      "model_name": "LinearScaleModel",
      "state": {
       "_model_module_version": "^0.3.0-alpha.6",
       "_view_module_version": "^0.3.0-alpha.6",
       "max": 10,
       "min": 0,
       "stabilized": false
      }
     },
     "a1d57eebb9754c86a2fa86320d31da47": {
      "model_module": "bqplot",
      "model_module_version": "^0.3.0-alpha.6",
      "model_name": "LinearScaleModel",
      "state": {
       "_model_module_version": "^0.3.0-alpha.6",
       "_view_module_version": "^0.3.0-alpha.6",
       "max": 10,
       "min": 0,
       "stabilized": false
      }
     },
     "a93d141bd37e4deba07a9a0b66aba1f7": {
      "model_module": "bqplot",
      "model_module_version": "^0.3.0-alpha.6",
      "model_name": "LinearScaleModel",
      "state": {
       "_model_module_version": "^0.3.0-alpha.6",
       "_view_module_version": "^0.3.0-alpha.6",
       "max": 10,
       "min": 0,
       "stabilized": false
      }
     },
     "bcff051ef10c4ed09171be8349f50b01": {
      "model_module": "bqplot",
      "model_module_version": "^0.3.0-alpha.6",
      "model_name": "LinearScaleModel",
      "state": {
       "_model_module_version": "^0.3.0-alpha.6",
       "_view_module_version": "^0.3.0-alpha.6",
       "allow_padding": false,
       "max": 1,
       "min": 0,
       "stabilized": false
      }
     },
     "d956ae1633bd45349f77bb55f9b955a2": {
      "model_module": "bqplot",
      "model_module_version": "^0.3.0-alpha.6",
      "model_name": "ScatterModel",
      "state": {
       "_model_module": "bqplot",
       "_model_module_version": "^0.3.0-alpha.6",
       "_view_count": null,
       "_view_module": "bqplot",
       "_view_module_version": "^0.3.0-alpha.6",
       "apply_clip": true,
       "color": {
        "type": null,
        "values": null
       },
       "colors": [
        "DeepSkyBlue"
       ],
       "default_size": 180,
       "display_legend": false,
       "enable_hover": true,
       "hovered_style": {},
       "interactions": {
        "click": "select"
       },
       "labels": [],
       "names": {
        "type": null,
        "values": null
       },
       "opacity": {
        "type": null,
        "values": null
       },
       "preserve_domain": {},
       "rotation": {
        "type": null,
        "values": null
       },
       "scales": {
        "x": "IPY_MODEL_0edc5bb6f5a64f8caf2f6b73beba8ec4",
        "y": "IPY_MODEL_0355748a71324dd4adf5cb0294c26944"
       },
       "scales_metadata": {
        "color": {
         "dimension": "color"
        },
        "opacity": {
         "dimension": "opacity"
        },
        "size": {
         "dimension": "size"
        },
        "x": {
         "dimension": "x",
         "orientation": "horizontal"
        },
        "y": {
         "dimension": "y",
         "orientation": "vertical"
        }
       },
       "selected": [
        0,
        1
       ],
       "selected_style": {
        "fill": "DarkOrange",
        "opacity": 1,
        "stroke": "Red"
       },
       "size": {
        "type": null,
        "values": null
       },
       "skew": {
        "type": null,
        "values": null
       },
       "tooltip": null,
       "tooltip_location": "mouse",
       "tooltip_style": {
        "opacity": 0.9
       },
       "unhovered_style": {},
       "unselected_style": {
        "opacity": 0.5
       },
       "visible": true,
       "x": {
        "type": "float",
        "values": [
         2,
         5,
         8
        ]
       },
       "y": {
        "type": "float",
        "values": [
         2,
         8,
         2
        ]
       }
      }
     },
     "dd01995755d547348c2d4365c8af94cc": {
      "model_module": "@jupyter-widgets/controls",
      "model_module_version": "1.0.0",
      "model_name": "VBoxModel",
      "state": {
       "children": [
        "IPY_MODEL_f4d9ffb0e30a4652b7ac4fa32b433387"
       ],
       "layout": "IPY_MODEL_67250ea81a014b3a87cc9e6cd322fd58"
      }
     },
     "ddaeb34b6bd4473f9edaed728206f523": {
      "model_module": "bqplot",
      "model_module_version": "^0.3.0-alpha.6",
      "model_name": "LinearScaleModel",
      "state": {
       "_model_module_version": "^0.3.0-alpha.6",
       "_view_module_version": "^0.3.0-alpha.6",
       "allow_padding": false,
       "max": 1,
       "min": 0,
       "stabilized": false
      }
     },
     "f4d9ffb0e30a4652b7ac4fa32b433387": {
      "model_module": "bqplot",
      "model_module_version": "^0.3.0-alpha.6",
      "model_name": "FigureModel",
      "state": {
       "_dom_classes": [],
       "_model_module_version": "^0.3.0-alpha.6",
       "_view_module_version": "^0.3.0-alpha.6",
       "layout": "IPY_MODEL_5388393a2663492a9c08276df5a0f3ed",
       "marks": [
        "IPY_MODEL_d956ae1633bd45349f77bb55f9b955a2"
       ],
       "max_aspect_ratio": 6,
       "scale_x": "IPY_MODEL_bcff051ef10c4ed09171be8349f50b01",
       "scale_y": "IPY_MODEL_00c113635a20451194912f6877282753"
      }
     }
    },
    "version_major": 2,
    "version_minor": 0
   }
  }
 },
 "nbformat": 4,
 "nbformat_minor": 2
}
