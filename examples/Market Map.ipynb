{
 "cells": [
  {
   "cell_type": "code",
   "execution_count": null,
   "metadata": {
    "collapsed": false
   },
   "outputs": [],
   "source": [
    "import pandas as pd\n",
    "from IPython.display import display\n",
    "from ipywidgets import Latex\n",
    "from bqplot import *\n",
    "from bqplot.market_map import MarketMap"
   ]
  },
  {
   "cell_type": "markdown",
   "metadata": {},
   "source": [
    "## Get Data"
   ]
  },
  {
   "cell_type": "code",
   "execution_count": null,
   "metadata": {
    "collapsed": false
   },
   "outputs": [],
   "source": [
    "data = pd.read_csv('data_files/country_codes.csv', index_col=[0])\n",
    "country_codes = data.index.values\n",
    "country_names = data['Name']"
   ]
  },
  {
   "cell_type": "markdown",
   "metadata": {},
   "source": [
    "## Basic Market Map"
   ]
  },
  {
   "cell_type": "code",
   "execution_count": null,
   "metadata": {
    "collapsed": false
   },
   "outputs": [],
   "source": [
    "market_map = MarketMap(names=country_codes,      # basic data which needs to set for each map\n",
    "                       ref_data=data,            # Data frame which can be used for different properties of the map\n",
    "                       tooltip_fields=['Name'])  # Axis and scale for color data\n",
    "display(market_map)"
   ]
  },
  {
   "cell_type": "markdown",
   "metadata": {},
   "source": [
    "## GDP data with grouping by continent\n",
    "\n",
    "World Bank national accounts data, and OECD National Accounts data files."
   ]
  },
  {
   "cell_type": "code",
   "execution_count": null,
   "metadata": {
    "collapsed": true
   },
   "outputs": [],
   "source": [
    "gdp_data = pd.read_csv('data_files/gdp_per_capita.csv', index_col=[0], parse_dates=True)\n",
    "gdp_data.fillna(method='backfill', inplace=True)\n",
    "gdp_data.fillna(method='ffill', inplace=True)"
   ]
  },
  {
   "cell_type": "code",
   "execution_count": null,
   "metadata": {
    "collapsed": false
   },
   "outputs": [],
   "source": [
    "col = ColorScale(scheme='Greens')\n",
    "continents = data['Continent'].values\n",
    "ax_c = ColorAxis(scale=col, label='GDP per Capita', visible=False)\n",
    "\n",
    "data['GDP'] = gdp_data.ix[-1]\n",
    "\n",
    "market_map = MarketMap(names=country_codes, groups=continents,       # Basic data which needs to set for each map\n",
    "                       cols=25, row_groups=3,                        # Properties for the visualization\n",
    "                       ref_data=data,                                # Data frame used for different properties of the map\n",
    "                       tooltip_fields=['Name', 'Continent', 'GDP'],  # Columns from data frame to be displayed as tooltip\n",
    "                       tooltip_formats=['', '', '.1f'],\n",
    "                       scales={'color': col}, axes=[ax_c])           # Axis and scale for color data"
   ]
  },
  {
   "cell_type": "code",
   "execution_count": null,
   "metadata": {
    "collapsed": false
   },
   "outputs": [],
   "source": [
    "deb_output = Latex()\n",
    "def selected_index_changed(name, value):\n",
    "    deb_output.value = str(value)\n",
    "        \n",
    "market_map.on_trait_change(selected_index_changed, name='selected')\n",
    "display(deb_output)\n",
    "display(market_map)"
   ]
  },
  {
   "cell_type": "code",
   "execution_count": null,
   "metadata": {
    "collapsed": false
   },
   "outputs": [],
   "source": [
    "# Attribute to show the names of the groups, in this case the continents\n",
    "market_map.show_groups = True"
   ]
  },
  {
   "cell_type": "code",
   "execution_count": null,
   "metadata": {
    "collapsed": false
   },
   "outputs": [],
   "source": [
    "# Setting the selected countries\n",
    "market_map.show_groups = False\n",
    "market_map.selected = ['PAN', 'FRA', 'PHL']"
   ]
  },
  {
   "cell_type": "code",
   "execution_count": null,
   "metadata": {
    "collapsed": false
   },
   "outputs": [],
   "source": [
    "# changing selected stroke and hovered stroke variable\n",
    "market_map.selected_stroke = 'yellow'\n",
    "market_map.hovered_stroke = 'violet'"
   ]
  },
  {
   "cell_type": "markdown",
   "metadata": {},
   "source": [
    "## Setting the color based on data"
   ]
  },
  {
   "cell_type": "code",
   "execution_count": null,
   "metadata": {
    "collapsed": false
   },
   "outputs": [],
   "source": [
    "# Adding data for color and making color axis visible\n",
    "market_map.color = data['GDP']\n",
    "ax_c.visible = True"
   ]
  },
  {
   "cell_type": "markdown",
   "metadata": {},
   "source": [
    "## Adding a widget as tooltip"
   ]
  },
  {
   "cell_type": "code",
   "execution_count": null,
   "metadata": {
    "collapsed": false
   },
   "outputs": [],
   "source": [
    "# Creating the figure to be displayed as the tooltip\n",
    "sc_x = DateScale()\n",
    "sc_y = LinearScale()\n",
    "\n",
    "ax_x = Axis(scale=sc_x, grid_lines='dashed', label='Date')\n",
    "ax_y = Axis(scale=sc_y, orientation='vertical', grid_lines='dashed',\n",
    "            label='GDP', label_location='end', label_offset='-1em')\n",
    "\n",
    "line = Lines(x= gdp_data.index.values, scales={'x': sc_x, 'y': sc_y}, colors=['orange'])\n",
    "fig_tooltip = Figure(marks=[line], axes=[ax_x, ax_y], min_width=600, min_height=400)"
   ]
  },
  {
   "cell_type": "code",
   "execution_count": null,
   "metadata": {
    "collapsed": false
   },
   "outputs": [],
   "source": [
    "market_map = MarketMap(names=country_codes, groups=continents,\n",
    "                       cols=25, row_groups=3,\n",
    "                       color=data['GDP'], scales={'color': col}, axes=[ax_c],\n",
    "                       ref_data=data, tooltip_widget=fig_tooltip)\n",
    "\n",
    "# Update the tooltip chart\n",
    "hovered_symbol = ''\n",
    "def hover_handler(self, content):\n",
    "    global hovered_symbol\n",
    "    symbol = content.get('ref_data', {}).get('Country Code', '')\n",
    "    if(symbol != hovered_symbol):\n",
    "        hovered_symbol = symbol\n",
    "        if(gdp_data.get(hovered_symbol) is not None):\n",
    "            line.y = gdp_data[hovered_symbol].values\n",
    "            fig_tooltip.title = hovered_symbol\n",
    "               \n",
    "# Custom msg sent when a particular cell is hovered on\n",
    "market_map.on_hover(hover_handler)\n",
    "display(market_map)"
   ]
  }
 ],
 "metadata": {
  "kernelspec": {
   "display_name": "Python 2",
   "language": "python",
   "name": "python2"
  },
  "language_info": {
   "codemirror_mode": {
    "name": "ipython",
    "version": 2
   },
   "file_extension": ".py",
   "mimetype": "text/x-python",
   "name": "python",
   "nbconvert_exporter": "python",
   "pygments_lexer": "ipython2",
   "version": "2.7.10"
  }
 },
 "nbformat": 4,
 "nbformat_minor": 0
}
