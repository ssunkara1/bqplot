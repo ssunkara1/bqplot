{
 "cells": [
  {
   "cell_type": "code",
   "execution_count": null,
   "metadata": {
    "collapsed": false
   },
   "outputs": [],
   "source": [
    "from IPython.display import display\n",
    "from bqplot import *"
   ]
  },
  {
   "cell_type": "markdown",
   "metadata": {},
   "source": [
    "## Basic Map ##"
   ]
  },
  {
   "cell_type": "code",
   "execution_count": null,
   "metadata": {
    "collapsed": false
   },
   "outputs": [],
   "source": [
    "sc_geo = Mercator()\n",
    "x = Map(map_data=topo_load('WorldMapData.json'), scales={'projection': sc_geo})\n",
    "fig = Figure(marks=[x])\n",
    "display(fig)"
   ]
  },
  {
   "cell_type": "markdown",
   "metadata": {
    "collapsed": true
   },
   "source": [
    "## Advanced Map and Projection ##"
   ]
  },
  {
   "cell_type": "code",
   "execution_count": null,
   "metadata": {
    "collapsed": true
   },
   "outputs": [],
   "source": [
    "sc_geo = Orthographic()\n",
    "x = Map(map_data=topo_load('WorldMapData.json'), scales={'projection': sc_geo})\n",
    "fig = Figure(marks=[x], fig_color='deepskyblue')\n",
    "display(fig)"
   ]
  },
  {
   "cell_type": "code",
   "execution_count": null,
   "metadata": {
    "collapsed": false
   },
   "outputs": [],
   "source": [
    "sc_geo.scale = 350"
   ]
  },
  {
   "cell_type": "markdown",
   "metadata": {},
   "source": [
    "## Chloropleth ##"
   ]
  },
  {
   "cell_type": "code",
   "execution_count": null,
   "metadata": {
    "collapsed": false
   },
   "outputs": [],
   "source": [
    "sc_geo = Mercator()\n",
    "sc_c1 = ColorScale(scheme='YlOrRd')\n",
    "\n",
    "map_styles = {'color': {643: 200., 4: 21., 398: 23., 156: 42., 124:78., 76: 98.}, \n",
    "              'scales': {'projection': sc_geo, 'color': sc_c1}}\n",
    "\n",
    "axis = ColorAxis(scale=sc_c1)\n",
    "\n",
    "x = Map(map_data=topo_load('WorldMapData.json'), **map_styles)\n",
    "fig = Figure(marks=[x], axes=[axis])\n",
    "display(fig)"
   ]
  },
  {
   "cell_type": "markdown",
   "metadata": {},
   "source": [
    "## Alternate Map Data ##"
   ]
  },
  {
   "cell_type": "code",
   "execution_count": null,
   "metadata": {
    "collapsed": false
   },
   "outputs": [],
   "source": [
    "sc_geo = AlbersUSA()\n",
    "x = Map(map_data=topo_load('USMapData.json'), \n",
    "            scales={'projection': sc_geo})\n",
    "fig = Figure(marks=[x])\n",
    "display(fig)"
   ]
  },
  {
   "cell_type": "markdown",
   "metadata": {},
   "source": [
    "## Interactions ##"
   ]
  },
  {
   "cell_type": "code",
   "execution_count": null,
   "metadata": {
    "collapsed": false
   },
   "outputs": [],
   "source": [
    "def_tt = Tooltip(fields=['id', 'name'])\n",
    "map_mark = Map(map_data=topo_load('WorldMapData.json'), \n",
    "               scales={'projection': Mercator()}, tooltip=def_tt)\n",
    "map_mark.interactions = {'click': 'select', 'hover': 'tooltip'}\n",
    "fig = Figure(marks=[map_mark])\n",
    "display(fig)"
   ]
  },
  {
   "cell_type": "code",
   "execution_count": null,
   "metadata": {
    "collapsed": true
   },
   "outputs": [],
   "source": []
  }
 ],
 "metadata": {
  "kernelspec": {
   "display_name": "Python 2",
   "language": "python",
   "name": "python2"
  },
  "language_info": {
   "codemirror_mode": {
    "name": "ipython",
    "version": 2
   },
   "file_extension": ".py",
   "mimetype": "text/x-python",
   "name": "python",
   "nbconvert_exporter": "python",
   "pygments_lexer": "ipython2",
   "version": "2.7.9"
  }
 },
 "nbformat": 4,
 "nbformat_minor": 0
}
