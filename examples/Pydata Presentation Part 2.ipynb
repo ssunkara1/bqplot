{
 "cells": [
  {
   "cell_type": "code",
   "execution_count": 1,
   "metadata": {
    "collapsed": true,
    "deletable": true,
    "editable": true
   },
   "outputs": [],
   "source": [
    "import bqapi as bq\n",
    "import pandas as pd\n",
    "import numpy as np\n",
    "\n",
    "sess = bq.Session()"
   ]
  },
  {
   "cell_type": "code",
   "execution_count": 2,
   "metadata": {
    "collapsed": false,
    "deletable": true,
    "editable": true
   },
   "outputs": [
    {
     "name": "stderr",
     "output_type": "stream",
     "text": [
      "C:\\blp\\BQuant\\environments\\bqnt-0.15\\lib\\site-packages\\bqnb\\kernelapp.py:2: UserWarning: Function get_historical_data has been moved to pyrefdata and will be removed soon from bqapi. Please port your code to use BQL or pyrefdata.\n",
      "  # All Rights Reserved.\n",
      "C:\\blp\\BQuant\\environments\\bqnt-0.15\\lib\\site-packages\\bqnb\\kernelapp.py:7: UserWarning: Function get_historical_data has been moved to pyrefdata and will be removed soon from bqapi. Please port your code to use BQL or pyrefdata.\n",
      "  \n"
     ]
    }
   ],
   "source": [
    "hist_data = sess.get_historical_data(['spy us equity', 'vix index'], 'px_last', start_date='01-01-2010', \n",
    "                                     end_date='10-01-2015')\n",
    "vix_data = hist_data.loc['vix index']\n",
    "spy_data = hist_data.loc['spy us equity']\n",
    "\n",
    "vol_data = sess.get_historical_data('spy us equity', 'px_volume', start_date='01-01-2010',\n",
    "                                   end_date='10-01-2015')\n",
    "spy_vol = vol_data.loc['spy us equity']"
   ]
  },
  {
   "cell_type": "code",
   "execution_count": 3,
   "metadata": {
    "collapsed": false,
    "deletable": true,
    "editable": true
   },
   "outputs": [],
   "source": [
    "spy_returns = spy_data.pct_change()[1:]\n",
    "vix_changes = vix_data.diff()[1:]\n",
    "agg_df = pd.concat([spy_returns, vix_changes, spy_vol], axis=1).dropna(axis=0)\n",
    "agg_df.columns = ['spy returns', 'vix changes', 'spy vol']"
   ]
  },
  {
   "cell_type": "code",
   "execution_count": 4,
   "metadata": {
    "collapsed": false,
    "deletable": true,
    "editable": true
   },
   "outputs": [],
   "source": [
    "from bqplot import pyplot as plt\n",
    "_axes_opts = {'x': {'grid_lines': 'solid', 'label': 'SPY Returns'}, 'y': {'grid_lines': 'solid', 'label': 'VIX Changes'}}"
   ]
  },
  {
   "cell_type": "code",
   "execution_count": 5,
   "metadata": {
    "collapsed": false,
    "deletable": true,
    "editable": true
   },
   "outputs": [
    {
     "data": {
      "application/vnd.jupyter.widget-view+json": {
       "model_id": "7203acb862e64210b914dbdc2bf0fc78"
      }
     },
     "metadata": {},
     "output_type": "display_data"
    }
   ],
   "source": [
    "plt.figure()\n",
    "scat = plt.scatter(agg_df['spy returns'], agg_df['vix changes'], default_colors=['mediumseagreen'], \n",
    "                   stroke='black', axes_options=_axes_opts, unselected_style={'opacity': 0.1})\n",
    "plt.show(display_toolbar=False)"
   ]
  },
  {
   "cell_type": "code",
   "execution_count": 6,
   "metadata": {
    "collapsed": true,
    "deletable": true,
    "editable": true
   },
   "outputs": [],
   "source": [
    "from ipywidgets import FloatRangeSlider\n",
    "from IPython.display import display"
   ]
  },
  {
   "cell_type": "code",
   "execution_count": 7,
   "metadata": {
    "collapsed": false,
    "deletable": true,
    "editable": true
   },
   "outputs": [
    {
     "data": {
      "application/vnd.jupyter.widget-view+json": {
       "model_id": "49a48b0ff2d54c308ade185053e542ba"
      }
     },
     "metadata": {},
     "output_type": "display_data"
    }
   ],
   "source": [
    "vol_slid = FloatRangeSlider(min=0., max=1., step=0.01, value=[0., 1.], description='Volume Quantile')\n",
    "display(vol_slid)"
   ]
  },
  {
   "cell_type": "code",
   "execution_count": 8,
   "metadata": {
    "collapsed": false,
    "deletable": true,
    "editable": true
   },
   "outputs": [],
   "source": [
    "volume_sorted = np.sort(vol_data.values.flatten())\n",
    "num_vols = len(volume_sorted) - 1"
   ]
  },
  {
   "cell_type": "code",
   "execution_count": 9,
   "metadata": {
    "collapsed": false,
    "deletable": true,
    "editable": true
   },
   "outputs": [],
   "source": [
    "min_idx, max_idx = int(vol_slid.value[0] * num_vols), int(vol_slid.value[1] * num_vols)"
   ]
  },
  {
   "cell_type": "code",
   "execution_count": 10,
   "metadata": {
    "collapsed": false,
    "deletable": true,
    "editable": true
   },
   "outputs": [
    {
     "name": "stdout",
     "output_type": "stream",
     "text": [
      "404 1446\n"
     ]
    }
   ],
   "source": [
    "print(min_idx, max_idx)"
   ]
  },
  {
   "cell_type": "code",
   "execution_count": 11,
   "metadata": {
    "collapsed": false,
    "deletable": true,
    "editable": true
   },
   "outputs": [],
   "source": [
    "volumes = vol_data.values.flatten()\n",
    "sel_df = np.flatnonzero(np.logical_and((volumes > volume_sorted[min_idx]), (volumes < volume_sorted[max_idx])))"
   ]
  },
  {
   "cell_type": "code",
   "execution_count": 12,
   "metadata": {
    "collapsed": false,
    "deletable": true,
    "editable": true
   },
   "outputs": [],
   "source": [
    "scat.selected = sel_df.tolist()"
   ]
  },
  {
   "cell_type": "code",
   "execution_count": null,
   "metadata": {
    "collapsed": true,
    "deletable": true,
    "editable": true
   },
   "outputs": [],
   "source": []
  }
 ],
 "metadata": {
  "kernelspec": {
   "display_name": "Python 3 (sandboxed)",
   "language": "python",
   "name": "python3"
  },
  "language_info": {
   "codemirror_mode": {
    "name": "ipython",
    "version": 3
   },
   "file_extension": ".py",
   "mimetype": "text/x-python",
   "name": "python",
   "nbconvert_exporter": "python",
   "pygments_lexer": "ipython3",
   "version": "3.5.2"
  },
  "widgets": {
   "state": {
    "32e148e897e84d6ab98d1ceedeb305cc": {
     "views": [
      {
       "cell_index": 4
      }
     ]
    },
    "aae73ce94d8a4ecdb132d4d0648a9b71": {
     "views": [
      {
       "cell_index": 6
      }
     ]
    }
   },
   "version": "1.2.0"
  }
 },
 "nbformat": 4,
 "nbformat_minor": 0
}
