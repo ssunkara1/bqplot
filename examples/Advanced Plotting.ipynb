{
 "cells": [
  {
   "cell_type": "code",
   "execution_count": null,
   "metadata": {
    "collapsed": false,
    "input_collapsed": false
   },
   "outputs": [],
   "source": [
    "import numpy as np\n",
    "from IPython.display import display\n",
    "from bqplot import *"
   ]
  },
  {
   "cell_type": "code",
   "execution_count": null,
   "metadata": {
    "collapsed": false
   },
   "outputs": [],
   "source": [
    "size = 100\n",
    "x_data = range(size)\n",
    "np.random.seed(0)\n",
    "y_data = np.cumsum(np.random.randn(size) * 100.0)\n",
    "y_data_2 = np.cumsum(np.random.randn(size))\n",
    "y_data_3 = np.cumsum(np.random.randn(size) * 100.)"
   ]
  },
  {
   "cell_type": "markdown",
   "metadata": {},
   "source": [
    "## Multiple marks in a single figure"
   ]
  },
  {
   "cell_type": "code",
   "execution_count": null,
   "metadata": {
    "collapsed": false
   },
   "outputs": [],
   "source": [
    "sc_ord = OrdinalScale()\n",
    "sc_y = LinearScale()\n",
    "sc_y_2 = LinearScale()\n",
    "\n",
    "ord_ax = Axis(label='Test X', scale=sc_ord, tick_format='0.0f', grid_lines='none')\n",
    "y_ax = Axis(label='Test Y', scale=sc_y, \n",
    "            orientation='vertical', tick_format='0.2f', \n",
    "            grid_lines='solid')\n",
    "y_ax_2 = Axis(label='Test Y 2', scale=sc_y_2, \n",
    "              orientation='vertical', side='right', \n",
    "              tick_format='0.0f', grid_lines='solid')"
   ]
  },
  {
   "cell_type": "code",
   "execution_count": null,
   "metadata": {
    "collapsed": false
   },
   "outputs": [],
   "source": [
    "line_chart = Lines(x=x_data[:10], y = [y_data[:10], y_data_2[:10] * 100, y_data_3[:10]],\n",
    "                   scales={'x': sc_ord, 'y': sc_y},\n",
    "                   labels=['Line1', 'Line2', 'Line3'], \n",
    "                   display_legend=True)\n",
    "\n",
    "bar_chart = Bars(x=x_data[:10], \n",
    "                 y=[y_data[:10], y_data_2[:10] * 100, y_data_3[:10]], \n",
    "                 scales={'x': sc_ord, 'y': sc_y_2},\n",
    "                 labels=['Bar1', 'Bar2', 'Bar3'],\n",
    "                 display_legend=True)\n",
    "\n",
    "fig = Figure(axes=[ord_ax, y_ax],  marks=[bar_chart, line_chart], legend_location = 'bottom-left')\n",
    "\n",
    "# the line does not have a Y value set. So only the bars will be displayed\n",
    "display(fig)"
   ]
  },
  {
   "cell_type": "markdown",
   "metadata": {},
   "source": [
    "## Sample Histogram with mid-points set"
   ]
  },
  {
   "cell_type": "code",
   "execution_count": null,
   "metadata": {
    "collapsed": false
   },
   "outputs": [],
   "source": [
    "x_scale = LinearScale()\n",
    "y_scale = LinearScale()\n",
    "\n",
    "hist = Hist(sample=y_data, \n",
    "            colors=['yellow'], \n",
    "            scales={'sample': x_scale, 'count': y_scale}, \n",
    "            labels=['Test Histogram'],\n",
    "            display_legend=True)\n",
    "\n",
    "x_ax = Axis(label='Test X', scale=x_scale, \n",
    "            tick_format='0.2f', grid_lines='none')\n",
    "\n",
    "y_ax_2 = Axis(label='Test Y', scale=y_scale, orientation='vertical', tick_format='0.2f', grid_lines='none')\n",
    "\n",
    "fig = Figure(axes=[x_ax, y_ax_2], marks=[hist])"
   ]
  },
  {
   "cell_type": "code",
   "execution_count": null,
   "metadata": {
    "collapsed": false
   },
   "outputs": [],
   "source": [
    "display(fig)"
   ]
  },
  {
   "cell_type": "code",
   "execution_count": null,
   "metadata": {
    "collapsed": true
   },
   "outputs": [],
   "source": [
    "# Setting the tick values to be the mid points of the bins\n",
    "x_ax.tick_values = hist.midpoints"
   ]
  },
  {
   "cell_type": "markdown",
   "metadata": {},
   "source": [
    "## Line Chart Log Scale"
   ]
  },
  {
   "cell_type": "code",
   "execution_count": null,
   "metadata": {
    "collapsed": false
   },
   "outputs": [],
   "source": [
    "dates_all = np.arange('2005-02', '2005-03', dtype='datetime64[D]')\n",
    "size = len(dates_all)\n",
    "final_prices = 100 + 5 * np.cumsum(np.random.randn(size))"
   ]
  },
  {
   "cell_type": "code",
   "execution_count": null,
   "metadata": {
    "collapsed": false
   },
   "outputs": [],
   "source": [
    "## Log scale for the Y axis\n",
    "dt_scale = DateScale()\n",
    "lsc = LogScale()\n",
    "\n",
    "ax_x = Axis(label='Date', scale=dt_scale, grid_lines='dashed')\n",
    "lax_y = Axis(label='Log Price', scale=lsc, orientation='vertical', tick_format='0.1f', grid_lines='solid')\n",
    "\n",
    "logline = Lines(x=dates_all, y=final_prices, scales={'x': dt_scale, 'y': lsc}, colors=['hotpink', 'yellow'])\n",
    "logfig = Figure(axes=[ax_x, lax_y], marks=[logline], fig_margin = dict(left=100, right=100, top=100, bottom=70))\n",
    "display(logfig)"
   ]
  },
  {
   "cell_type": "markdown",
   "metadata": {},
   "source": [
    "## Multiple Marks with Ordinal Scale"
   ]
  },
  {
   "cell_type": "code",
   "execution_count": null,
   "metadata": {
    "collapsed": false
   },
   "outputs": [],
   "source": [
    "# Plotting a bar and line chart on the same figure with x axis being an oridnal scale.\n",
    "ord_scale = OrdinalScale()\n",
    "lin_scale = LinearScale()\n",
    "\n",
    "bar_chart = Bars(x=x_data[:10],\n",
    "                 y=np.abs(y_data_3[:10]),\n",
    "                 scales={'x': ord_scale, 'y': lin_scale}, \n",
    "                 colors=['hotpink', 'yellow', 'limegreen'],\n",
    "                 padding=0.5)\n",
    "\n",
    "line_chart = Lines(x=x_data[:10], \n",
    "                   y=np.abs(y_data[:10]), \n",
    "                   scales={'x': ord_scale, 'y': lin_scale}, \n",
    "                   colors=['hotpink', 'yellow', 'limegreen'])\n",
    "bar_x = Axis(scale=ord_scale, orientation='horizontal', grid_lines='none', \n",
    "             set_ticks=True)\n",
    "bar_y = Axis(scale=lin_scale, orientation='vertical', grid_lines='none')\n",
    "fig_2 = Figure(axes=[bar_x, bar_y], marks=[bar_chart, line_chart])\n",
    "display(fig_2)"
   ]
  },
  {
   "cell_type": "markdown",
   "metadata": {},
   "source": [
    "## Setting min and max along an axis for plots"
   ]
  },
  {
   "cell_type": "code",
   "execution_count": null,
   "metadata": {
    "collapsed": false
   },
   "outputs": [],
   "source": [
    "sc_x = LinearScale(min=10, max=50)\n",
    "sc_y = LinearScale()\n",
    "\n",
    "x_data = np.arange(100)\n",
    "line_1 = Lines(x=x_data, y=y_data_2, scales={'x': sc_x, 'y': sc_y}, colors=['yellow'])\n",
    "\n",
    "ax_x = Axis(scale=sc_x)\n",
    "ax_y = Axis(scale=sc_y, orientation='vertical', tick_format='.2f')\n",
    "fig = Figure(marks=[line_1], axes=[ax_x, ax_y])\n",
    "display(fig)"
   ]
  },
  {
   "cell_type": "code",
   "execution_count": null,
   "metadata": {
    "collapsed": true
   },
   "outputs": [],
   "source": [
    "## changing the min/max\n",
    "sc_x.min=-10\n",
    "sc_x.max=110"
   ]
  },
  {
   "cell_type": "markdown",
   "metadata": {},
   "source": [
    "## Marks which do not affect the domain along an axis"
   ]
  },
  {
   "cell_type": "code",
   "execution_count": null,
   "metadata": {
    "collapsed": false
   },
   "outputs": [],
   "source": [
    "sc_x = LinearScale()\n",
    "sc_y = LinearScale()\n",
    "\n",
    "x_data = np.arange(50)\n",
    "\n",
    "line_1 = Lines(x=x_data, y=y_data, scales={'x': sc_x, 'y': sc_y}, colors=['yellow'])\n",
    "line_2 = Lines(x=x_data, y=y_data * 2, scales={'x': sc_x, 'y': sc_y}, colors=['orangered'], preserve_domain={'y': True})\n",
    "\n",
    "ax_x = Axis(scale=sc_x)\n",
    "ax_y = Axis(scale=sc_y, orientation='vertical')\n",
    "fig = Figure(marks=[line_1, line_2], axes=[ax_x, ax_y])\n",
    "display(fig)"
   ]
  },
  {
   "cell_type": "code",
   "execution_count": null,
   "metadata": {
    "collapsed": false
   },
   "outputs": [],
   "source": [
    "with line_2.hold_sync():\n",
    "    line_2.preserve_domain={}"
   ]
  },
  {
   "cell_type": "markdown",
   "metadata": {},
   "source": [
    "## Preserve domain for color scale"
   ]
  },
  {
   "cell_type": "code",
   "execution_count": null,
   "metadata": {
    "collapsed": true
   },
   "outputs": [],
   "source": [
    "sc_x = LinearScale()\n",
    "sc_y = LinearScale()\n",
    "sc_col = ColorScale(colors=['red', 'white', 'green'], mid=0.0)\n",
    "\n",
    "x_data = np.arange(50)\n",
    "\n",
    "scatt_1 = Scatter(x=x_data, y=y_data[:50], color=y_data[:50], scales={'x': sc_x, 'y': sc_y, 'color': sc_col},marker='circle')\n",
    "scatt_2 = Scatter(x=x_data, y=y_data[:50] * 2, color=y_data[:50] * 2, scales={'x': sc_x, 'y': sc_y, 'color': sc_col}, \n",
    "               preserve_domain={'color': True}, marker='cross')\n",
    "\n",
    "ax_x = Axis(scale=sc_x)\n",
    "ax_y = Axis(scale=sc_y, orientation='vertical')\n",
    "fig = Figure(marks=[scatt_1, scatt_2], axes=[ax_x, ax_y])\n",
    "display(fig)"
   ]
  },
  {
   "cell_type": "markdown",
   "metadata": {},
   "source": [
    "## Reversing a scale"
   ]
  },
  {
   "cell_type": "code",
   "execution_count": null,
   "metadata": {
    "collapsed": true
   },
   "outputs": [],
   "source": [
    "sc_x = LinearScale(reverse=True)\n",
    "sc_y = LinearScale()\n",
    "\n",
    "x_data = np.arange(50)\n",
    "\n",
    "line_1 = Lines(x=x_data, y=y_data, scales={'x': sc_x, 'y': sc_y}, colors=['yellow'])\n",
    "\n",
    "ax_x = Axis(scale=sc_x)\n",
    "ax_y = Axis(scale=sc_y, orientation='vertical')\n",
    "fig = Figure(marks=[line_1], axes=[ax_x, ax_y])\n",
    "display(fig)"
   ]
  },
  {
   "cell_type": "markdown",
   "metadata": {},
   "source": [
    "## Fixing the domain of an ordinal scale"
   ]
  },
  {
   "cell_type": "code",
   "execution_count": null,
   "metadata": {
    "collapsed": false
   },
   "outputs": [],
   "source": [
    "ord_scale = OrdinalScale(domain=range(20))\n",
    "y_scale = LinearScale()\n",
    "\n",
    "bar_chart = Bars(x=x_data[:10], \n",
    "                 y=[(y_data[:10]), y_data_2[:10] * 100, y_data_3[:10]], \n",
    "                 scales={'x': ord_scale, 'y': y_scale},\n",
    "                 colors=['hotpink', 'yellow', 'limegreen'],\n",
    "                 labels=['Component 1', 'Component 2', 'Component 3'],\n",
    "                 display_legend=True)\n",
    "\n",
    "bar_x = Axis(scale=ord_scale, orientation='horizontal', set_ticks=True, grid_lines='none')\n",
    "bar_y = Axis(scale=y_scale, orientation='vertical', grid_lines='none')\n",
    "\n",
    "fig_2 = Figure(axes=[bar_x, bar_y], marks=[bar_chart])\n",
    "display(fig_2)"
   ]
  },
  {
   "cell_type": "markdown",
   "metadata": {},
   "source": [
    "## Applying clip to marks"
   ]
  },
  {
   "cell_type": "code",
   "execution_count": null,
   "metadata": {
    "collapsed": true
   },
   "outputs": [],
   "source": [
    "sc_x = LinearScale(min=10, max=90)\n",
    "sc_y = LinearScale()\n",
    "\n",
    "x_data = np.arange(100)\n",
    "line_1 = Lines(x=x_data, y=y_data_3, scales={'x': sc_x, 'y': sc_y}, colors=['yellow'], labels=['Clipped Line'],\n",
    "               display_legend=True)\n",
    "line_2 = Lines(x=x_data, y=y_data, scales={'x': sc_x, 'y': sc_y}, apply_clip=False, colors=['orangered'], \n",
    "               labels=['Non clipped line'], display_legend=True)\n",
    "\n",
    "ax_x = Axis(scale=sc_x)\n",
    "ax_y = Axis(scale=sc_y, orientation='vertical')\n",
    "fig = Figure(marks=[line_1, line_2], axes=[ax_x, ax_y])\n",
    "display(fig)"
   ]
  }
 ],
 "metadata": {
  "kernelspec": {
   "display_name": "Python 2",
   "language": "python",
   "name": "python2"
  },
  "language_info": {
   "codemirror_mode": {
    "name": "ipython",
    "version": 2
   },
   "file_extension": ".py",
   "mimetype": "text/x-python",
   "name": "python",
   "nbconvert_exporter": "python",
   "pygments_lexer": "ipython2",
   "version": "2.7.10"
  }
 },
 "nbformat": 4,
 "nbformat_minor": 0
}
